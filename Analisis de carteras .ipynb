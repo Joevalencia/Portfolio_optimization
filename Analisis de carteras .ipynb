{
 "cells": [
  {
   "cell_type": "markdown",
   "metadata": {},
   "source": [
    "# Metodos estadisticos para las finanzas"
   ]
  },
  {
   "cell_type": "markdown",
   "metadata": {},
   "source": [
    "### Objetivo:\n",
    "Construcciòn de Carteras con ocho empresas y respectiva comparaciòn con el 2019."
   ]
  },
  {
   "cell_type": "markdown",
   "metadata": {},
   "source": [
    "### Introducción:\n",
    "\n",
    "Se descargaron la base de datos desde Yahoo! finance y la profundidad escogida es aproximadamente de dos años, más precisamente desde el 20 de enero del 2017, fecha en la cual se estableció en la Casa Blanca el 45° presidente de los Estados Unidos de Norteamérica. <br>Días ante su inesperada victoria, se temía muchos las repercusiones en las finanzas y en la economía mundial debido al hecho que el plan político de **Donald J. Trump** miraba hacia una política “aislacionista” en materia no solo militar sino también económica.<br>Las máximas expresiones de estas amenazas culminaron con una breve guerra arancelaría contra **China** y las acusaciones de robos de patentes a beneficio de las empresas tecnológicas asiáticas. No solo, en efecto el castigo comercial fue también para los aliados históricos o sea los países del viejo continente. La UE por su cuenta dijo que ante esto no iba a quedarse con los brazos cruzados. Entre las medidas que el mandatario dictó iban a estar las supuestas sanciones al Coloso Huawei, sanciones que incluían la prohibición para la compañía asiática de utilizar los servicios de Google. <br>Estas medidas fueron sucesivamente levantadas en un vértice del G20 en Japón, el verano del 2019. No obstante, este paréntesis, algunos aranceles quedan como los del acero y el aluminio entre otros. <br>Si bien al presidente le sean suficientes pocos **tweets** para mover las bolsas y generar nuevas **tendencias en los mercados**, nos proponemos de analizar como la política del “Make America Great Again” haya sido impactante para una cartera de activos por la mayor parte compuesta por **compañías del IT**.\n"
   ]
  },
  {
   "cell_type": "markdown",
   "metadata": {},
   "source": [
    "## Las empresas"
   ]
  },
  {
   "cell_type": "markdown",
   "metadata": {},
   "source": [
    "Las **ocho empresas** en consideración son:\n",
    "\n",
    "*\t$NetApp:$ empresa norteamericana de gestión de datos y servicios de datos en la nube híbrida con sede en Sunnyvale, California.\n",
    "*\t$Texas Inc.$ : empresa conocida en la industria electrónica como TI, es una empresa norteamericana con sede en Dallas (Texas, EE. UU.) que desarrolla y comercializa semiconductores y tecnología para ordenadores.\n",
    "\n",
    "*\t$Planet Fitness:$ Planet Fitness es un franquiciador y operador estadounidense de centros de fitness con sede en Hampton, Nuevo Hampshire.\n",
    "*\t$Welltower Inc.:$ esta compañía es un fideicomiso de inversión en bienes raíces que invierte principalmente en viviendas para personas mayores, comunidades de atención asistida y atención de la memoria, instalaciones de atención post-aguda y edificios de oficinas médicas.\n",
    "\n",
    "*\t$Tyler Technologies Inc.:$ esta empresa es una importante compañía de software del sector público con sede en Plano, Texas.\n",
    "\n",
    "*\t$Oracle Corporation:$ es una compañía especializada en el desarrollo de soluciones de nube y locales. Oracle tiene su sede en la localidad californiana de Redwood City, Estados Unidos.\n",
    "*\t$ServiceNow Inc.:$ es una empresa estadounidense de computación en la nube con sede en Santa Clara, California.\n",
    "\n",
    "*\t$Intel Corporation:$ el mayor fabricante de circuitos integrados del mundo según su cifra de negocio anual.\n"
   ]
  },
  {
   "cell_type": "markdown",
   "metadata": {},
   "source": [
    "**Las librerias de Python**"
   ]
  },
  {
   "cell_type": "code",
   "execution_count": 4,
   "metadata": {},
   "outputs": [],
   "source": [
    "import pandas as pd\n",
    "import numpy as np\n",
    "import matplotlib.pyplot as plt\n",
    "import seaborn as sns\n",
    "from datetime import datetime\n",
    "import yfinance as yf\n",
    "sns.set_style('whitegrid')"
   ]
  },
  {
   "cell_type": "code",
   "execution_count": 5,
   "metadata": {},
   "outputs": [],
   "source": [
    "start, end = datetime(2017,1,20), datetime(2018,12,31) #Periodo considerado"
   ]
  },
  {
   "cell_type": "code",
   "execution_count": 6,
   "metadata": {},
   "outputs": [
    {
     "name": "stdout",
     "output_type": "stream",
     "text": [
      "[*********************100%***********************]  1 of 1 completed\n",
      "NTAP: NetApp, Inc.\n",
      "[*********************100%***********************]  1 of 1 completed\n",
      "TXN: Texas Instruments Incorporated\n",
      "[*********************100%***********************]  1 of 1 completed\n",
      "No data for WELL\n",
      "[*********************100%***********************]  1 of 1 completed\n",
      "ORCL: Oracle Corporation\n",
      "[*********************100%***********************]  1 of 1 completed\n",
      "NOW: ServiceNow, Inc.\n",
      "[*********************100%***********************]  1 of 1 completed\n",
      "No data for TYL\n",
      "[*********************100%***********************]  1 of 1 completed\n",
      "INTC: Intel Corporation\n",
      "[*********************100%***********************]  1 of 1 completed\n",
      "PLNT: Planet Fitness, Inc.\n",
      "[*********************100%***********************]  1 of 1 completed\n",
      "^GSPC: S&P 500\n"
     ]
    }
   ],
   "source": [
    "portfolio = pd.DataFrame()\n",
    "stocks = ['NTAP', 'TXN', 'WELL', 'ORCL', 'NOW', 'TYL', 'INTC', 'PLNT', '^GSPC']\n",
    "for stock in stocks:\n",
    "    load = yf.download(stock, start, end)\n",
    "    portfolio[stock] = load['Adj Close']\n",
    "    try:\n",
    "        tick = yf.Ticker(stock)\n",
    "        print('%s: %s' % (stock, tick.info['shortName']))\n",
    "    except:\n",
    "        print('No data for %s' % stock)"
   ]
  },
  {
   "cell_type": "code",
   "execution_count": 4,
   "metadata": {},
   "outputs": [
    {
     "data": {
      "text/html": [
       "<div>\n",
       "<style scoped>\n",
       "    .dataframe tbody tr th:only-of-type {\n",
       "        vertical-align: middle;\n",
       "    }\n",
       "\n",
       "    .dataframe tbody tr th {\n",
       "        vertical-align: top;\n",
       "    }\n",
       "\n",
       "    .dataframe thead th {\n",
       "        text-align: right;\n",
       "    }\n",
       "</style>\n",
       "<table border=\"1\" class=\"dataframe\">\n",
       "  <thead>\n",
       "    <tr style=\"text-align: right;\">\n",
       "      <th></th>\n",
       "      <th>NTAP</th>\n",
       "      <th>TXN</th>\n",
       "      <th>WELL</th>\n",
       "      <th>ORCL</th>\n",
       "      <th>NOW</th>\n",
       "      <th>TYL</th>\n",
       "      <th>INTC</th>\n",
       "      <th>PLNT</th>\n",
       "      <th>^GSPC</th>\n",
       "    </tr>\n",
       "    <tr>\n",
       "      <th>Date</th>\n",
       "      <th></th>\n",
       "      <th></th>\n",
       "      <th></th>\n",
       "      <th></th>\n",
       "      <th></th>\n",
       "      <th></th>\n",
       "      <th></th>\n",
       "      <th></th>\n",
       "      <th></th>\n",
       "    </tr>\n",
       "  </thead>\n",
       "  <tbody>\n",
       "    <tr>\n",
       "      <th>2017-01-19</th>\n",
       "      <td>33.076382</td>\n",
       "      <td>67.303925</td>\n",
       "      <td>55.649311</td>\n",
       "      <td>37.147236</td>\n",
       "      <td>82.699997</td>\n",
       "      <td>149.149994</td>\n",
       "      <td>33.490959</td>\n",
       "      <td>20.000000</td>\n",
       "      <td>2263.689941</td>\n",
       "    </tr>\n",
       "    <tr>\n",
       "      <th>2017-01-20</th>\n",
       "      <td>33.574879</td>\n",
       "      <td>68.096481</td>\n",
       "      <td>55.951027</td>\n",
       "      <td>37.772526</td>\n",
       "      <td>83.400002</td>\n",
       "      <td>148.820007</td>\n",
       "      <td>33.829800</td>\n",
       "      <td>20.030001</td>\n",
       "      <td>2271.310059</td>\n",
       "    </tr>\n",
       "    <tr>\n",
       "      <th>2017-01-23</th>\n",
       "      <td>33.390247</td>\n",
       "      <td>68.989265</td>\n",
       "      <td>56.722073</td>\n",
       "      <td>37.592514</td>\n",
       "      <td>83.250000</td>\n",
       "      <td>147.330002</td>\n",
       "      <td>33.674122</td>\n",
       "      <td>20.000000</td>\n",
       "      <td>2265.199951</td>\n",
       "    </tr>\n",
       "    <tr>\n",
       "      <th>2017-01-24</th>\n",
       "      <td>34.636497</td>\n",
       "      <td>70.219086</td>\n",
       "      <td>56.403591</td>\n",
       "      <td>37.990414</td>\n",
       "      <td>83.970001</td>\n",
       "      <td>147.479996</td>\n",
       "      <td>34.452557</td>\n",
       "      <td>20.510000</td>\n",
       "      <td>2280.070068</td>\n",
       "    </tr>\n",
       "    <tr>\n",
       "      <th>2017-01-25</th>\n",
       "      <td>35.033451</td>\n",
       "      <td>71.585571</td>\n",
       "      <td>55.615788</td>\n",
       "      <td>38.037796</td>\n",
       "      <td>86.360001</td>\n",
       "      <td>148.169998</td>\n",
       "      <td>34.617397</td>\n",
       "      <td>21.200001</td>\n",
       "      <td>2298.370117</td>\n",
       "    </tr>\n",
       "  </tbody>\n",
       "</table>\n",
       "</div>"
      ],
      "text/plain": [
       "                 NTAP        TXN       WELL       ORCL        NOW         TYL  \\\n",
       "Date                                                                            \n",
       "2017-01-19  33.076382  67.303925  55.649311  37.147236  82.699997  149.149994   \n",
       "2017-01-20  33.574879  68.096481  55.951027  37.772526  83.400002  148.820007   \n",
       "2017-01-23  33.390247  68.989265  56.722073  37.592514  83.250000  147.330002   \n",
       "2017-01-24  34.636497  70.219086  56.403591  37.990414  83.970001  147.479996   \n",
       "2017-01-25  35.033451  71.585571  55.615788  38.037796  86.360001  148.169998   \n",
       "\n",
       "                 INTC       PLNT        ^GSPC  \n",
       "Date                                           \n",
       "2017-01-19  33.490959  20.000000  2263.689941  \n",
       "2017-01-20  33.829800  20.030001  2271.310059  \n",
       "2017-01-23  33.674122  20.000000  2265.199951  \n",
       "2017-01-24  34.452557  20.510000  2280.070068  \n",
       "2017-01-25  34.617397  21.200001  2298.370117  "
      ]
     },
     "execution_count": 4,
     "metadata": {},
     "output_type": "execute_result"
    }
   ],
   "source": [
    "portfolio.head()"
   ]
  },
  {
   "cell_type": "markdown",
   "metadata": {},
   "source": [
    "## Las descripciones"
   ]
  },
  {
   "cell_type": "markdown",
   "metadata": {},
   "source": [
    "**ANALISIS DE LAS OCHO EMPRESAS MAS LA CARTERA DE REFERENCIA**\n",
    "\n",
    "Mediante la construcción de un dataframe lo que intentamos ver es una rápida panorámica de las rentabilidades medias mensuales y de la desviación estándar, para ver la volatilidad de las firmas. La matriz en aquel periodo nos da:\n"
   ]
  },
  {
   "cell_type": "code",
   "execution_count": 5,
   "metadata": {},
   "outputs": [
    {
     "data": {
      "text/html": [
       "<div>\n",
       "<style scoped>\n",
       "    .dataframe tbody tr th:only-of-type {\n",
       "        vertical-align: middle;\n",
       "    }\n",
       "\n",
       "    .dataframe tbody tr th {\n",
       "        vertical-align: top;\n",
       "    }\n",
       "\n",
       "    .dataframe thead th {\n",
       "        text-align: right;\n",
       "    }\n",
       "</style>\n",
       "<table border=\"1\" class=\"dataframe\">\n",
       "  <thead>\n",
       "    <tr style=\"text-align: right;\">\n",
       "      <th></th>\n",
       "      <th>NTAP</th>\n",
       "      <th>TXN</th>\n",
       "      <th>WELL</th>\n",
       "      <th>ORCL</th>\n",
       "      <th>NOW</th>\n",
       "      <th>TYL</th>\n",
       "      <th>INTC</th>\n",
       "      <th>PLNT</th>\n",
       "      <th>^GSPC</th>\n",
       "    </tr>\n",
       "  </thead>\n",
       "  <tbody>\n",
       "    <tr>\n",
       "      <th>count</th>\n",
       "      <td>470.0000</td>\n",
       "      <td>470.0000</td>\n",
       "      <td>470.0000</td>\n",
       "      <td>470.0000</td>\n",
       "      <td>470.0000</td>\n",
       "      <td>470.0000</td>\n",
       "      <td>470.0000</td>\n",
       "      <td>470.0000</td>\n",
       "      <td>470.0000</td>\n",
       "    </tr>\n",
       "    <tr>\n",
       "      <th>mean</th>\n",
       "      <td>0.0222</td>\n",
       "      <td>0.0109</td>\n",
       "      <td>0.0076</td>\n",
       "      <td>0.0072</td>\n",
       "      <td>0.0295</td>\n",
       "      <td>0.0089</td>\n",
       "      <td>0.0128</td>\n",
       "      <td>0.0398</td>\n",
       "      <td>0.0051</td>\n",
       "    </tr>\n",
       "    <tr>\n",
       "      <th>std</th>\n",
       "      <td>0.0906</td>\n",
       "      <td>0.0579</td>\n",
       "      <td>0.0545</td>\n",
       "      <td>0.0534</td>\n",
       "      <td>0.0636</td>\n",
       "      <td>0.0559</td>\n",
       "      <td>0.0586</td>\n",
       "      <td>0.0730</td>\n",
       "      <td>0.0298</td>\n",
       "    </tr>\n",
       "    <tr>\n",
       "      <th>min</th>\n",
       "      <td>-0.2517</td>\n",
       "      <td>-0.1779</td>\n",
       "      <td>-0.1273</td>\n",
       "      <td>-0.1653</td>\n",
       "      <td>-0.1697</td>\n",
       "      <td>-0.1779</td>\n",
       "      <td>-0.1382</td>\n",
       "      <td>-0.1755</td>\n",
       "      <td>-0.1131</td>\n",
       "    </tr>\n",
       "    <tr>\n",
       "      <th>25%</th>\n",
       "      <td>-0.0265</td>\n",
       "      <td>-0.0280</td>\n",
       "      <td>-0.0304</td>\n",
       "      <td>-0.0250</td>\n",
       "      <td>-0.0133</td>\n",
       "      <td>-0.0116</td>\n",
       "      <td>-0.0268</td>\n",
       "      <td>-0.0125</td>\n",
       "      <td>-0.0061</td>\n",
       "    </tr>\n",
       "    <tr>\n",
       "      <th>50%</th>\n",
       "      <td>0.0230</td>\n",
       "      <td>0.0118</td>\n",
       "      <td>0.0115</td>\n",
       "      <td>0.0095</td>\n",
       "      <td>0.0289</td>\n",
       "      <td>0.0143</td>\n",
       "      <td>0.0065</td>\n",
       "      <td>0.0424</td>\n",
       "      <td>0.0127</td>\n",
       "    </tr>\n",
       "    <tr>\n",
       "      <th>75%</th>\n",
       "      <td>0.0820</td>\n",
       "      <td>0.0507</td>\n",
       "      <td>0.0483</td>\n",
       "      <td>0.0401</td>\n",
       "      <td>0.0766</td>\n",
       "      <td>0.0445</td>\n",
       "      <td>0.0507</td>\n",
       "      <td>0.0844</td>\n",
       "      <td>0.0225</td>\n",
       "    </tr>\n",
       "    <tr>\n",
       "      <th>max</th>\n",
       "      <td>0.2663</td>\n",
       "      <td>0.1632</td>\n",
       "      <td>0.1338</td>\n",
       "      <td>0.1272</td>\n",
       "      <td>0.2095</td>\n",
       "      <td>0.1318</td>\n",
       "      <td>0.1995</td>\n",
       "      <td>0.2942</td>\n",
       "      <td>0.0766</td>\n",
       "    </tr>\n",
       "  </tbody>\n",
       "</table>\n",
       "</div>"
      ],
      "text/plain": [
       "           NTAP       TXN      WELL      ORCL       NOW       TYL      INTC  \\\n",
       "count  470.0000  470.0000  470.0000  470.0000  470.0000  470.0000  470.0000   \n",
       "mean     0.0222    0.0109    0.0076    0.0072    0.0295    0.0089    0.0128   \n",
       "std      0.0906    0.0579    0.0545    0.0534    0.0636    0.0559    0.0586   \n",
       "min     -0.2517   -0.1779   -0.1273   -0.1653   -0.1697   -0.1779   -0.1382   \n",
       "25%     -0.0265   -0.0280   -0.0304   -0.0250   -0.0133   -0.0116   -0.0268   \n",
       "50%      0.0230    0.0118    0.0115    0.0095    0.0289    0.0143    0.0065   \n",
       "75%      0.0820    0.0507    0.0483    0.0401    0.0766    0.0445    0.0507   \n",
       "max      0.2663    0.1632    0.1338    0.1272    0.2095    0.1318    0.1995   \n",
       "\n",
       "           PLNT     ^GSPC  \n",
       "count  470.0000  470.0000  \n",
       "mean     0.0398    0.0051  \n",
       "std      0.0730    0.0298  \n",
       "min     -0.1755   -0.1131  \n",
       "25%     -0.0125   -0.0061  \n",
       "50%      0.0424    0.0127  \n",
       "75%      0.0844    0.0225  \n",
       "max      0.2942    0.0766  "
      ]
     },
     "execution_count": 5,
     "metadata": {},
     "output_type": "execute_result"
    }
   ],
   "source": [
    "ex = np.log(portfolio/portfolio.shift(20)).dropna().describe().round(4)\n",
    "ex"
   ]
  },
  {
   "cell_type": "code",
   "execution_count": 27,
   "metadata": {},
   "outputs": [
    {
     "data": {
      "text/html": [
       "<div>\n",
       "<style scoped>\n",
       "    .dataframe tbody tr th:only-of-type {\n",
       "        vertical-align: middle;\n",
       "    }\n",
       "\n",
       "    .dataframe tbody tr th {\n",
       "        vertical-align: top;\n",
       "    }\n",
       "\n",
       "    .dataframe thead th {\n",
       "        text-align: right;\n",
       "    }\n",
       "</style>\n",
       "<table border=\"1\" class=\"dataframe\">\n",
       "  <thead>\n",
       "    <tr style=\"text-align: right;\">\n",
       "      <th></th>\n",
       "      <th>NTAP</th>\n",
       "      <th>TXN</th>\n",
       "      <th>WELL</th>\n",
       "      <th>ORCL</th>\n",
       "      <th>NOW</th>\n",
       "      <th>TYL</th>\n",
       "      <th>INTC</th>\n",
       "      <th>PLNT</th>\n",
       "      <th>^GSPC</th>\n",
       "    </tr>\n",
       "  </thead>\n",
       "  <tbody>\n",
       "    <tr>\n",
       "      <th>count</th>\n",
       "      <td>470.0000</td>\n",
       "      <td>470.0000</td>\n",
       "      <td>470.0000</td>\n",
       "      <td>470.0000</td>\n",
       "      <td>470.0000</td>\n",
       "      <td>470.0000</td>\n",
       "      <td>470.0000</td>\n",
       "      <td>470.0000</td>\n",
       "      <td>470.0000</td>\n",
       "    </tr>\n",
       "    <tr>\n",
       "      <th>mean</th>\n",
       "      <td>0.0222</td>\n",
       "      <td>0.0109</td>\n",
       "      <td>0.0076</td>\n",
       "      <td>0.0072</td>\n",
       "      <td>0.0295</td>\n",
       "      <td>0.0089</td>\n",
       "      <td>0.0128</td>\n",
       "      <td>0.0398</td>\n",
       "      <td>0.0051</td>\n",
       "    </tr>\n",
       "    <tr>\n",
       "      <th>std</th>\n",
       "      <td>0.0906</td>\n",
       "      <td>0.0579</td>\n",
       "      <td>0.0545</td>\n",
       "      <td>0.0534</td>\n",
       "      <td>0.0636</td>\n",
       "      <td>0.0559</td>\n",
       "      <td>0.0586</td>\n",
       "      <td>0.0730</td>\n",
       "      <td>0.0298</td>\n",
       "    </tr>\n",
       "    <tr>\n",
       "      <th>min</th>\n",
       "      <td>-0.2517</td>\n",
       "      <td>-0.1779</td>\n",
       "      <td>-0.1273</td>\n",
       "      <td>-0.1653</td>\n",
       "      <td>-0.1697</td>\n",
       "      <td>-0.1779</td>\n",
       "      <td>-0.1382</td>\n",
       "      <td>-0.1755</td>\n",
       "      <td>-0.1131</td>\n",
       "    </tr>\n",
       "    <tr>\n",
       "      <th>25%</th>\n",
       "      <td>-0.0265</td>\n",
       "      <td>-0.0280</td>\n",
       "      <td>-0.0304</td>\n",
       "      <td>-0.0250</td>\n",
       "      <td>-0.0133</td>\n",
       "      <td>-0.0116</td>\n",
       "      <td>-0.0268</td>\n",
       "      <td>-0.0125</td>\n",
       "      <td>-0.0061</td>\n",
       "    </tr>\n",
       "    <tr>\n",
       "      <th>50%</th>\n",
       "      <td>0.0230</td>\n",
       "      <td>0.0118</td>\n",
       "      <td>0.0115</td>\n",
       "      <td>0.0095</td>\n",
       "      <td>0.0289</td>\n",
       "      <td>0.0143</td>\n",
       "      <td>0.0065</td>\n",
       "      <td>0.0424</td>\n",
       "      <td>0.0127</td>\n",
       "    </tr>\n",
       "    <tr>\n",
       "      <th>75%</th>\n",
       "      <td>0.0820</td>\n",
       "      <td>0.0507</td>\n",
       "      <td>0.0483</td>\n",
       "      <td>0.0401</td>\n",
       "      <td>0.0766</td>\n",
       "      <td>0.0445</td>\n",
       "      <td>0.0507</td>\n",
       "      <td>0.0844</td>\n",
       "      <td>0.0225</td>\n",
       "    </tr>\n",
       "    <tr>\n",
       "      <th>max</th>\n",
       "      <td>0.2663</td>\n",
       "      <td>0.1632</td>\n",
       "      <td>0.1338</td>\n",
       "      <td>0.1272</td>\n",
       "      <td>0.2095</td>\n",
       "      <td>0.1318</td>\n",
       "      <td>0.1995</td>\n",
       "      <td>0.2942</td>\n",
       "      <td>0.0766</td>\n",
       "    </tr>\n",
       "  </tbody>\n",
       "</table>\n",
       "</div>"
      ],
      "text/plain": [
       "           NTAP       TXN      WELL      ORCL       NOW       TYL      INTC      PLNT     ^GSPC\n",
       "count  470.0000  470.0000  470.0000  470.0000  470.0000  470.0000  470.0000  470.0000  470.0000\n",
       "mean     0.0222    0.0109    0.0076    0.0072    0.0295    0.0089    0.0128    0.0398    0.0051\n",
       "std      0.0906    0.0579    0.0545    0.0534    0.0636    0.0559    0.0586    0.0730    0.0298\n",
       "min     -0.2517   -0.1779   -0.1273   -0.1653   -0.1697   -0.1779   -0.1382   -0.1755   -0.1131\n",
       "25%     -0.0265   -0.0280   -0.0304   -0.0250   -0.0133   -0.0116   -0.0268   -0.0125   -0.0061\n",
       "50%      0.0230    0.0118    0.0115    0.0095    0.0289    0.0143    0.0065    0.0424    0.0127\n",
       "75%      0.0820    0.0507    0.0483    0.0401    0.0766    0.0445    0.0507    0.0844    0.0225\n",
       "max      0.2663    0.1632    0.1338    0.1272    0.2095    0.1318    0.1995    0.2942    0.0766"
      ]
     },
     "execution_count": 27,
     "metadata": {},
     "output_type": "execute_result"
    }
   ],
   "source": [
    "dex =  np.log(portfolio/portfolio.shift(20)).dropna().describe().round(4)\n",
    "dex"
   ]
  },
  {
   "cell_type": "markdown",
   "metadata": {},
   "source": [
    "Como podemos observar en el caso de **Welltower (WELL)** la rentabilidad media en este arco temporal es bastante **baja** y esto es debido al hecho que el precio de su acción pasó de un máximo de \\\\$ 77.43 en la mitad del 2017 a un mínimo de \\\\$ 51.18 en la primavera del 2018 para iniciar desde entonces a cambiar tendencia en positivo. El precio a inicio/fin de la serie fue de \\\\$ 66.76/69.37.En el caso de **Texas Inc.(TXN)** el màximo en el mismo periodo fue de \\\\$116.86 mientras que el mìnimo coincide con el precio inicial de la serie o sea \\\\$ 74.75. Este dato nos hace entender que el precio de su acciòn estuvo bastante **bien en el 2017** mientras que las mayores **\"caìdas\"** se vieron en el **2018**, en concreto al inicio del primer trimestre y a mitad del ùltimo trimestre, cerrando el año en \\\\$ 93.81.<br>\n",
    "En el caso de **Oracle (ORCL)** los mayores descensos fueron en marzo del 2018 y en los últimos diez días del mismo año.<br>\n",
    "Finalmente, para **Tyler Technologies (TYL)** el periodo de más **baja** es el último trimestre del 2018. Lo que hemos observado nos hace notar que han tenido una tendencia en común las rentabilidades de estas **firmas**, de hecho, en el 2018, ya sea al inicio o al final de alguna manera las rentabilidades han sido influenciadas por un **trend negativo.**<br>\n",
    "Ahora, por lo que concierne la volatilidad es interesante notar que todas las empresas están netamente por encima de la cartera de referencia.\n",
    "\n",
    "En concreto la mayor parte ha estado en valores que superan el 5%, esto se debe en parte al hecho habíamos mencionado anteriormente o sea que algunas de ellas han bruscamente visto bajar el precio de sus acciones.\n",
    "Aunque muchas de ellas estén por arriba el 5% hay que notar que algunas más que otra han casi visto tocar valores sobre el 9% como en el caso de **NetApp**.\n",
    "El caso de esta compañía de gestión de datos y servicios en la nube ya lo habíamos visto anteriormente, y como habíamos observado en aquel entonces la **alta volatilidad** se debió a informes negativos sobres las ventas, pese a que se pudo recuperar ya que posteriormente, salió a la luz un proyecto en colaboración con Google.\n",
    "Por otro lado, tenemos **Planet Fitness**, esta franquicia es bastante conocida ya que acompaña todos los años a los neoyorquinos en el tradicional *“Ball Drop”* de nochevieja en Times Square, siendo el principal patrocinador. Sin embargo, haya tenido valores por **encima del 7%** ha sabido también dar satisfacción ya que ha tenido rentabilidades elevadas, como a decir *“A mayor rendimiento mayor riesgo”* aunque sabemos que no siempre es así.<br>\n",
    "A continuación, brevemente mostraremos los Gráficos Interactivos con los precios de cierre del periodo 2017-2018.\n",
    " \n"
   ]
  },
  {
   "cell_type": "code",
   "execution_count": 2,
   "metadata": {},
   "outputs": [],
   "source": [
    "#from plotly.subplots import make_subplots\n",
    "#import plotly.graph_objects as go\n",
    "#import plotly.io as pio\n",
    "#from plotly.offline import init_notebook_mode\n",
    "#init_notebook_mode(connected=True)"
   ]
  },
  {
   "cell_type": "code",
   "execution_count": 1,
   "metadata": {},
   "outputs": [],
   "source": [
    "#grafico = make_subplots(cols= 4, rows=2,\n",
    "#                       subplot_titles=('NTAP', 'TXN', 'WELL', 'ORCL', 'NOW', 'TYL', 'INTC', 'PLNT'))\n",
    "                       \n",
    "#grafico.add_trace(go.Scatter(x=portfolio.index, y=portfolio.NTAP, name='NetApp'), row=1, col=1)\n",
    "#grafico.add_trace(go.Scatter(x=portfolio.index, y=portfolio.TXN, name='Texas Inc.'), row=1, col=2)\n",
    "#grafico.add_trace(go.Scatter(x=portfolio.index, y=portfolio.WELL, name='WELL'), row=1, col=3)\n",
    "#grafico.add_trace(go.Scatter(x=portfolio.index, y=portfolio.ORCL, name='ORCL'), row=1, col=4)\n",
    "#grafico.add_trace(go.Scatter(x=portfolio.index, y=portfolio.NOW, name='NOW'), row=2, col=1)\n",
    "#grafico.add_trace(go.Scatter(x=portfolio.index, y=portfolio.TYL, name='TYL'), row=2, col=2)\n",
    "#grafico.add_trace(go.Scatter(x=portfolio.index, y=portfolio.INTC, name='INTC'), row=2, col=3)                       \n",
    "#grafico.add_trace(go.Scatter(x=portfolio.index, y=portfolio.PLNT, name='PLNT'), row=2, col=4)\n",
    "#grafico.update_layout(title_text=\"Activos en nuestra cartera\")\n",
    "#grafico.show()\n",
    "                        \n"
   ]
  },
  {
   "cell_type": "markdown",
   "metadata": {},
   "source": [
    "### [Click](https://joevalencia.github.io/Portfolio_optimization/Activos.html) aquì para ver los activos interactivamente con Plotly, en el periodo mencionado."
   ]
  },
  {
   "cell_type": "markdown",
   "metadata": {},
   "source": [
    "## MATRIZ DE CORRELACIONES"
   ]
  },
  {
   "cell_type": "markdown",
   "metadata": {},
   "source": [
    "Sabemos que para construir una cartera bien diversificada nos beneficiará tener correlaciones negativas entre las empresas de nuestro Portafolio, de manera que gran parte del riesgo que asumimos sea oportunamente distribuido/propagado.<br>\n",
    "A continuación, mostramos la matriz de varianza y covarianza. En la diagonal principal encontramos las varianzas de los ochos empresas y del índice S&P 500.\n",
    "Afuera de la diagonal principal lo que vemos son la correlaciones, y como habíamos dicho anteriormente nos beneficiaran las correlaciones negativas. Por lo que observamos, hemos pintado de pùrpura a color melòn la intensidad de correlación entre las empresas.<br>\n",
    "Para una mejor interpretación, lo que nos interesa saber es que a menudo que la **correlación positiva aumenta**, aumentará la intensidad del **color melòn**, lo que querrá decir que siempre mayor rentabilidad implicará mayor riesgo.<br>\n",
    "De la misma manera el color **lila-pùrpura** nos indicará que estamos **reduciendo el riesgo** y la *diversificación* resulta ventajosa.<br>\n",
    "Además, para facilitar la lectura hemos inserido el valor de la matriz adentro del mismo gráfico.\n",
    " \n"
   ]
  },
  {
   "cell_type": "code",
   "execution_count": 6,
   "metadata": {},
   "outputs": [
    {
     "data": {
      "image/png": "[encoded data removed]",
      "text/plain": [
       "<Figure size 576x360 with 2 Axes>"
      ]
     },
     "metadata": {},
     "output_type": "display_data"
    }
   ],
   "source": [
    "matrix = portfolio.corr()\n",
    "plt.figure(figsize=(8,5))\n",
    "sns.heatmap(matrix, annot=True)\n",
    "plt.title('Matriz de correlaciones con S&P 500', fontweight='bold')\n",
    "plt.show()"
   ]
  },
  {
   "cell_type": "markdown",
   "metadata": {},
   "source": [
    "La ayuda de los colores y de los valores nos hace comprender como Welltower **(WELL)** esté **correlacionada negativamente** con casi todas las firmas incluidas el índice de referencia S&P 500, ya sea por el color (tendiente al lila), ya sea por los valores negativos.<br>\n",
    "Por otra parte, notamos entre las empresas que **NOW** tiene una **correlación positiva** bastante importante con TYL, así como TXN la tiene con INTC.<br>\n",
    "Por lo que concierne S&P 500 lo que vemos es la correlación positiva casi con todas, y en particular con TXN a excepción de WELL. <br>En fin, para observar cuán lejos del índice S&P 500 se situaron los activos proporcionaremos el siguiente gráfico, esto con el objetivo sobre todo de señalar mayormente el riesgo ante mencionado sobre todo por parte de Planet Fitness (PLNT) y NetApp (NTAP):\n"
   ]
  },
  {
   "cell_type": "code",
   "execution_count": 3,
   "metadata": {},
   "outputs": [],
   "source": [
    "from finquant.portfolio import build_portfolio"
   ]
  },
  {
   "cell_type": "code",
   "execution_count": 11,
   "metadata": {},
   "outputs": [],
   "source": [
    "# cartera1 = build_portfolio(data=portfolio.iloc[:,:-1])\n",
    "cartera1 = build_portfolio(data=portfolio)"
   ]
  },
  {
   "cell_type": "code",
   "execution_count": 16,
   "metadata": {},
   "outputs": [
    {
     "data": {
      "image/png": "[encoded data removed]",
      "text/plain": [
       "<Figure size 576x288 with 1 Axes>"
      ]
     },
     "metadata": {},
     "output_type": "display_data"
    }
   ],
   "source": [
    "plt.figure(figsize=(8,4))\n",
    "plt.title('Activos financieros bienio 2017/2018', fontweight='bold')\n",
    "plt.xlabel('Volatility')\n",
    "plt.ylabel('Returns')\n",
    "cartera1.plot_stocks()"
   ]
  },
  {
   "cell_type": "markdown",
   "metadata": {},
   "source": [
    "Como podemos ver los activos se encuentran todos por delante la cartera de referencia $S&P500$. De hecho sobresale **Planet Fitness**, tengamos en cuenta pero que este, aunque tenga la **mayor rentabilidad** respecto a los demas, también tiene un **riesgo superior** a todos los otros activos."
   ]
  },
  {
   "cell_type": "markdown",
   "metadata": {},
   "source": [
    "Aqui debajo podemos ir un poquito màs lejos y decir que: <br>\n",
    "* Por lo que concierne la asimetria, observamos 5 empresas que subren de asimetria negativa\n",
    "* Por lo que concierne la kurtosis observamos valores inferiores a 3, lo que significarìa que siguen una dist. normal. De todas formas aplicamos el test de Shapiro-Wilk a una de ellas para confermarlo."
   ]
  },
  {
   "cell_type": "code",
   "execution_count": 17,
   "metadata": {},
   "outputs": [],
   "source": [
    "from scipy.stats import shapiro"
   ]
  },
  {
   "cell_type": "code",
   "execution_count": 22,
   "metadata": {},
   "outputs": [
    {
     "name": "stdout",
     "output_type": "stream",
     "text": [
      "(0.9109417796134949, 2.3027723577675107e-16)\n"
     ]
    }
   ],
   "source": [
    "test = shapiro(portfolio.TXN)\n",
    "print(test)"
   ]
  },
  {
   "cell_type": "markdown",
   "metadata": {},
   "source": [
    "Como sospechabamos el $p-values$ es muy bajo lo que supone que rechazamos la $\\ H_{NULL}$ al 0.05. Por lo tanto la dist. es normal. "
   ]
  },
  {
   "cell_type": "markdown",
   "metadata": {},
   "source": [
    "Recordamos que la rentabilidad de esta cartera no es más que una media ponderada, o sea la rentabilidad específica de cada título por 12.5%.<br>\n",
    "En definitiva esta cartera supone una rentabilidad el 25,5% y una volatilidad de 17,7% si estuviese los activos participaran con igual peso en la cartera,<br> o sea si cadauno tuviese un peso de 12,5%. <br> Seguramente la cartera con mismos pesos no es una cartera eficiente, el gráfico mismo nos harà notar (geométricamente) que en primer lugar esta cartera no yace en la frontera y en segundo que el riesgo no está bien asumido porque al mismo riesgo podríamos obtener una rentabilidad mayor.<br>\n",
    "Por tanto, habría que cambiar el peso de los activos en nuestra cartera. "
   ]
  },
  {
   "cell_type": "code",
   "execution_count": 10,
   "metadata": {},
   "outputs": [
    {
     "name": "stdout",
     "output_type": "stream",
     "text": [
      "----------------------------------------------------------------------\n",
      "Stocks: NTAP, TXN, WELL, ORCL, NOW, TYL, INTC, PLNT\n",
      "Time window/frequency: 252\n",
      "Risk free rate: 0.005\n",
      "Portfolio Expected Return: 0.255\n",
      "Portfolio Volatility: 0.177\n",
      "Portfolio Sharpe Ratio: 1.414\n",
      "\n",
      "Skewness:\n",
      "       NTAP       TXN      WELL      ORCL       NOW      TYL      INTC      PLNT\n",
      "0  0.283302 -0.102799 -0.524605 -0.766623 -0.013051  0.39488 -0.017345  0.291021\n",
      "\n",
      "Kurtosis:\n",
      "       NTAP       TXN      WELL      ORCL       NOW       TYL      INTC      PLNT\n",
      "0 -1.366361 -1.439704 -0.541192  0.237278 -1.496548 -1.093183 -1.410481 -1.333793\n",
      "\n",
      "Information:\n",
      "   Allocation  Name\n",
      "0       0.125  NTAP\n",
      "1       0.125   TXN\n",
      "2       0.125  WELL\n",
      "3       0.125  ORCL\n",
      "4       0.125   NOW\n",
      "5       0.125   TYL\n",
      "6       0.125  INTC\n",
      "7       0.125  PLNT\n",
      "----------------------------------------------------------------------\n"
     ]
    }
   ],
   "source": [
    "cartera1.properties()"
   ]
  },
  {
   "cell_type": "markdown",
   "metadata": {},
   "source": [
    "Ahora, lo que nos queda por hacer es construir carteras con diferentes combinaciones de pesos y/o restricciones, de manera que podamos evaluar si son mejores respecto a si estas mismas estuviesen compuestas con los mismo pesos."
   ]
  },
  {
   "cell_type": "markdown",
   "metadata": {},
   "source": [
    "## CONSTRUCCION DE CARTERAS"
   ]
  },
  {
   "cell_type": "markdown",
   "metadata": {},
   "source": [
    "**La primera cartera** que construiremos es la que **maximiza la ratio de Sharpe** nuestro capital entre los activos de nuestras firmas.<br> Por ende, ponderaremos nuestra inversión entre ocho empresas para construir una cartera agresiva.<br> "
   ]
  },
  {
   "cell_type": "code",
   "execution_count": 24,
   "metadata": {},
   "outputs": [],
   "source": [
    "from finquant.efficient_frontier import EfficientFrontier"
   ]
  },
  {
   "cell_type": "code",
   "execution_count": 25,
   "metadata": {},
   "outputs": [],
   "source": [
    "allocation = EfficientFrontier(np.log(portfolio.iloc[:,:-1]/portfolio.iloc[:,:-1].shift(1)).dropna().mean(),\n",
    "                                                  np.log(portfolio.iloc[:,:-1]/portfolio.iloc[:,:-1].shift(1)).dropna().cov())"
   ]
  },
  {
   "cell_type": "code",
   "execution_count": 28,
   "metadata": {},
   "outputs": [
    {
     "data": {
      "image/png": "[encoded data removed]",
      "text/plain": [
       "<Figure size 720x360 with 1 Axes>"
      ]
     },
     "metadata": {},
     "output_type": "display_data"
    }
   ],
   "source": [
    "plt.figure(figsize=(10,5))\n",
    "allocation.plot_efrontier()\n",
    "allocation.plot_optimal_portfolios()"
   ]
  },
  {
   "cell_type": "code",
   "execution_count": 29,
   "metadata": {},
   "outputs": [
    {
     "data": {
      "text/html": [
       "<div>\n",
       "<style scoped>\n",
       "    .dataframe tbody tr th:only-of-type {\n",
       "        vertical-align: middle;\n",
       "    }\n",
       "\n",
       "    .dataframe tbody tr th {\n",
       "        vertical-align: top;\n",
       "    }\n",
       "\n",
       "    .dataframe thead th {\n",
       "        text-align: right;\n",
       "    }\n",
       "</style>\n",
       "<table border=\"1\" class=\"dataframe\">\n",
       "  <thead>\n",
       "    <tr style=\"text-align: right;\">\n",
       "      <th></th>\n",
       "      <th>Allocation</th>\n",
       "    </tr>\n",
       "  </thead>\n",
       "  <tbody>\n",
       "    <tr>\n",
       "      <th>NTAP</th>\n",
       "      <td>0.0763</td>\n",
       "    </tr>\n",
       "    <tr>\n",
       "      <th>TXN</th>\n",
       "      <td>0.0000</td>\n",
       "    </tr>\n",
       "    <tr>\n",
       "      <th>WELL</th>\n",
       "      <td>0.1577</td>\n",
       "    </tr>\n",
       "    <tr>\n",
       "      <th>ORCL</th>\n",
       "      <td>0.0000</td>\n",
       "    </tr>\n",
       "    <tr>\n",
       "      <th>NOW</th>\n",
       "      <td>0.3260</td>\n",
       "    </tr>\n",
       "    <tr>\n",
       "      <th>TYL</th>\n",
       "      <td>0.0000</td>\n",
       "    </tr>\n",
       "    <tr>\n",
       "      <th>INTC</th>\n",
       "      <td>0.0000</td>\n",
       "    </tr>\n",
       "    <tr>\n",
       "      <th>PLNT</th>\n",
       "      <td>0.4399</td>\n",
       "    </tr>\n",
       "  </tbody>\n",
       "</table>\n",
       "</div>"
      ],
      "text/plain": [
       "      Allocation\n",
       "NTAP      0.0763\n",
       "TXN       0.0000\n",
       "WELL      0.1577\n",
       "ORCL      0.0000\n",
       "NOW       0.3260\n",
       "TYL       0.0000\n",
       "INTC      0.0000\n",
       "PLNT      0.4399"
      ]
     },
     "execution_count": 29,
     "metadata": {},
     "output_type": "execute_result"
    }
   ],
   "source": [
    "allocation.maximum_sharpe_ratio().round(4)"
   ]
  },
  {
   "cell_type": "code",
   "execution_count": 30,
   "metadata": {},
   "outputs": [
    {
     "name": "stdout",
     "output_type": "stream",
     "text": [
      "----------------------------------------------------------------------\n",
      "Optimised portfolio for Maximum Sharpe Ratio\n",
      "\n",
      "Time window/frequency: 252\n",
      "Risk free rate: 0.005\n",
      "Expected annual Return: 0.383\n",
      "Annual Volatility: 0.240\n",
      "Sharpe Ratio: 1.575\n",
      "\n",
      "Optimal weights:\n",
      "                NTAP  TXN     WELL          ORCL       NOW           TYL          INTC      PLNT\n",
      "Allocation  0.076296  0.0  0.15773  3.886865e-17  0.326044  1.615461e-17  1.595132e-17  0.439931\n",
      "----------------------------------------------------------------------\n"
     ]
    },
    {
     "data": {
      "text/plain": [
       "(0.3833641863543243, 0.24023533766169905, 1.574973066148741)"
      ]
     },
     "execution_count": 30,
     "metadata": {},
     "output_type": "execute_result"
    }
   ],
   "source": [
    "allocation.properties(verbose=True)"
   ]
  },
  {
   "cell_type": "markdown",
   "metadata": {},
   "source": [
    "##### Veamos en concreto las acciones que deberìamos comprar si quicieramos gestionar una cartera con una rentabilidad considerable. \n",
    "**<br> Porque:**<br>\n",
    "De hecho esto es interesante pero no útil en sí mismo. Sin embargo, PyPortfolioOpt proporciona un método que le permite convertir los pesos continuos anteriores en una asignación real que puede comprar. <br>Simplemente debemos ingresar los precios más recientes y el tamaño de cartera deseado ($ 15,000 en este ejemplo):"
   ]
  },
  {
   "cell_type": "markdown",
   "metadata": {},
   "source": [
    "Para esto llamamos en ayuda la libreria pyPortfolioOtimization"
   ]
  },
  {
   "cell_type": "code",
   "execution_count": 31,
   "metadata": {},
   "outputs": [],
   "source": [
    "from pypfopt.discrete_allocation import DiscreteAllocation, get_latest_prices"
   ]
  },
  {
   "cell_type": "code",
   "execution_count": 33,
   "metadata": {},
   "outputs": [],
   "source": [
    "ult_prex_sha = get_latest_prices(portfolio.iloc[:,:-1]) # Ultimos precios de los activo el dìa 2018-12-28"
   ]
  },
  {
   "cell_type": "code",
   "execution_count": 34,
   "metadata": {},
   "outputs": [],
   "source": [
    "peso_max = {'NTAP'  :  0.0763, 'TXN'   :  0.0000, 'WELL'  :  0.1577, 'ORCL'   : 0.0000, # Necesitamos un dict de los peso \n",
    "            'NOW'     :0.3260, 'TYL'   :  0.0000, 'INTC'   : 0.0000, 'PLNT'    :0.4399} # que maximizan el sharpe_ratio"
   ]
  },
  {
   "cell_type": "code",
   "execution_count": 35,
   "metadata": {},
   "outputs": [
    {
     "name": "stdout",
     "output_type": "stream",
     "text": [
      "4 out of 8 tickers were removed\n",
      "Cartera agresiva. Cantidad de activos que deberìa comprar:  {'NTAP': 20, 'WELL': 37, 'NOW': 27, 'PLNT': 125}\n",
      "Lo que me queda: $36.41\n"
     ]
    }
   ],
   "source": [
    "allocation_sha = DiscreteAllocation(peso_max, ult_prex_sha, total_portfolio_value=15000) # Inversiòn de $15k\n",
    "activos_sha, leftover_sha = allocation_sha.lp_portfolio()\n",
    "print('Cartera agresiva. Cantidad de activos que deberìa comprar: ',activos_sha)\n",
    "print('Lo que me queda: ${:.2f}'.format( leftover_sha))"
   ]
  },
  {
   "cell_type": "markdown",
   "metadata": {},
   "source": [
    "## Cartera minimo riesgo bienio"
   ]
  },
  {
   "cell_type": "code",
   "execution_count": 36,
   "metadata": {},
   "outputs": [
    {
     "data": {
      "text/html": [
       "<div>\n",
       "<style scoped>\n",
       "    .dataframe tbody tr th:only-of-type {\n",
       "        vertical-align: middle;\n",
       "    }\n",
       "\n",
       "    .dataframe tbody tr th {\n",
       "        vertical-align: top;\n",
       "    }\n",
       "\n",
       "    .dataframe thead th {\n",
       "        text-align: right;\n",
       "    }\n",
       "</style>\n",
       "<table border=\"1\" class=\"dataframe\">\n",
       "  <thead>\n",
       "    <tr style=\"text-align: right;\">\n",
       "      <th></th>\n",
       "      <th>Allocation</th>\n",
       "    </tr>\n",
       "  </thead>\n",
       "  <tbody>\n",
       "    <tr>\n",
       "      <th>NTAP</th>\n",
       "      <td>0.0069</td>\n",
       "    </tr>\n",
       "    <tr>\n",
       "      <th>TXN</th>\n",
       "      <td>0.0746</td>\n",
       "    </tr>\n",
       "    <tr>\n",
       "      <th>WELL</th>\n",
       "      <td>0.4257</td>\n",
       "    </tr>\n",
       "    <tr>\n",
       "      <th>ORCL</th>\n",
       "      <td>0.2041</td>\n",
       "    </tr>\n",
       "    <tr>\n",
       "      <th>NOW</th>\n",
       "      <td>0.0000</td>\n",
       "    </tr>\n",
       "    <tr>\n",
       "      <th>TYL</th>\n",
       "      <td>0.2578</td>\n",
       "    </tr>\n",
       "    <tr>\n",
       "      <th>INTC</th>\n",
       "      <td>0.0113</td>\n",
       "    </tr>\n",
       "    <tr>\n",
       "      <th>PLNT</th>\n",
       "      <td>0.0195</td>\n",
       "    </tr>\n",
       "  </tbody>\n",
       "</table>\n",
       "</div>"
      ],
      "text/plain": [
       "      Allocation\n",
       "NTAP      0.0069\n",
       "TXN       0.0746\n",
       "WELL      0.4257\n",
       "ORCL      0.2041\n",
       "NOW       0.0000\n",
       "TYL       0.2578\n",
       "INTC      0.0113\n",
       "PLNT      0.0195"
      ]
     },
     "execution_count": 36,
     "metadata": {},
     "output_type": "execute_result"
    }
   ],
   "source": [
    "allocation.minimum_volatility().round(4)"
   ]
  },
  {
   "cell_type": "code",
   "execution_count": 37,
   "metadata": {},
   "outputs": [
    {
     "name": "stdout",
     "output_type": "stream",
     "text": [
      "----------------------------------------------------------------------\n",
      "Optimised portfolio for Minimum Volatility\n",
      "\n",
      "Time window/frequency: 252\n",
      "Risk free rate: 0.005\n",
      "Expected annual Return: 0.101\n",
      "Annual Volatility: 0.138\n",
      "Sharpe Ratio: 0.695\n",
      "\n",
      "Optimal weights:\n",
      "                NTAP       TXN      WELL      ORCL           NOW       TYL      INTC      PLNT\n",
      "Allocation  0.006904  0.074621  0.425743  0.204095  1.176359e-17  0.257798  0.011312  0.019527\n",
      "----------------------------------------------------------------------\n"
     ]
    },
    {
     "data": {
      "text/plain": [
       "(0.10092989992620319, 0.13810793366586402, 0.6946009355139173)"
      ]
     },
     "execution_count": 37,
     "metadata": {},
     "output_type": "execute_result"
    }
   ],
   "source": [
    "allocation.properties(verbose=True)"
   ]
  },
  {
   "cell_type": "markdown",
   "metadata": {},
   "source": [
    "Veamos en concreto los activos que un inversionista con adversiòn al riesgo deberia comprar. <br>Y después haremos unas consideraciones finales sobre el bienio"
   ]
  },
  {
   "cell_type": "code",
   "execution_count": 39,
   "metadata": {},
   "outputs": [],
   "source": [
    "peso_min = {'NTAP'  :  0.0069, 'TXN'   :  0.0746, 'WELL'  :  0.4257, 'ORCL'   : 0.2041, # Necesitamos un dict de los peso \n",
    "            'NOW'     :0.0000, 'TYL'   :  0.2578, 'INTC'   : 0.0113, 'PLNT'    :0.0195} # que minimizan el riesgo"
   ]
  },
  {
   "cell_type": "code",
   "execution_count": 40,
   "metadata": {},
   "outputs": [
    {
     "name": "stdout",
     "output_type": "stream",
     "text": [
      "2 out of 8 tickers were removed\n",
      "Cartera agresiva. Cantidad de activos que deberìa comprar:  {'TXN': 13, 'WELL': 99, 'ORCL': 71, 'TYL': 21, 'INTC': 4, 'PLNT': 6}\n",
      "Lo que me queda: $9.57\n"
     ]
    }
   ],
   "source": [
    "allocation_min = DiscreteAllocation(peso_min, ult_prex_sha, total_portfolio_value=15000) # Inversiòn de $15k\n",
    "activos_min, leftover_min = allocation_min.lp_portfolio()\n",
    "print('Cartera agresiva. Cantidad de activos que deberìa comprar: ',activos_min)\n",
    "print('Lo que me queda: ${:.2f}'.format( leftover_min))"
   ]
  },
  {
   "cell_type": "code",
   "execution_count": null,
   "metadata": {},
   "outputs": [],
   "source": []
  },
  {
   "cell_type": "code",
   "execution_count": null,
   "metadata": {},
   "outputs": [],
   "source": []
  },
  {
   "cell_type": "code",
   "execution_count": null,
   "metadata": {},
   "outputs": [],
   "source": []
  },
  {
   "cell_type": "markdown",
   "metadata": {},
   "source": [
    "Una cartera con mínimo riesgo (el punto verde en la frontera) podría ser deseable para aquellos inversores adversos al riesgo, pero preguntemos no si sería una buena opción. Por lo que vemos, considerando los activos en nuestra Cartera, respecto a la Cartera con mismos pesos el riesgo ha claramente disminuido hasta el 13,8% pero si nos fijamos mejor también se ha reducido la rentabilidad hasta 10% aproximadamente, o sea muy por debajo del riesgo mismo.\n",
    "Por otro lado, si quisiéramos maximizar la ratio return/risk, o sea buscar el punto más alto en la frontera eficiente entre rentabilidad/riesgo, obtendríamos un riesgo del 24% y una rentabilidad del 38,3%. Claramente el riesgo ha aumentado mucho pero la rentabilidad no se ha quedado atras.<br> Como medida de performance en general usamos la ratio de Sharpe. <br>\n",
    "Notamos como en la cartera de minimo riesgo este se encuentre por debajo de la unidad por lo que demuestra el hecho que el minimo riesgo implica también una rentabilidad inferior al mismo.<br> Por otro lado una cartera efficiente serìa la cartera **\"agresiva\"** ya que el indice de performance es mayor a la cartera con mismos pesos por activo. En efecto mayor sea la ratio mas preferible es una cartera.\n"
   ]
  },
  {
   "cell_type": "markdown",
   "metadata": {},
   "source": [
    "Primero de analizar el 2019. Veamos solo como se ha comportado el S&P500 en comparaciòn con algunos de los activos de las carteras.<br>\n",
    "**Para ello utilizamos la libreria quantstats**"
   ]
  },
  {
   "cell_type": "code",
   "execution_count": 45,
   "metadata": {},
   "outputs": [],
   "source": [
    "import quantstats as qs"
   ]
  },
  {
   "cell_type": "code",
   "execution_count": 54,
   "metadata": {},
   "outputs": [
    {
     "data": {
      "image/png": "[encoded data removed]",
      "text/plain": [
       "<Figure size 720x360 with 1 Axes>"
      ]
     },
     "metadata": {},
     "output_type": "display_data"
    }
   ],
   "source": [
    "qs.plots.yearly_returns(portfolio.PLNT, '^GSPC')"
   ]
  },
  {
   "cell_type": "code",
   "execution_count": 60,
   "metadata": {},
   "outputs": [
    {
     "data": {
      "text/html": [
       "<h4>Performance Metrics</h4>"
      ],
      "text/plain": [
       "<IPython.core.display.HTML object>"
      ]
     },
     "metadata": {},
     "output_type": "display_data"
    },
    {
     "name": "stdout",
     "output_type": "stream",
     "text": [
      "                    Strategy    Benchmark\n",
      "------------------  ----------  -----------\n",
      "Start Period        2017-01-19  2017-01-19\n",
      "End Period          2018-12-28  2018-12-28\n",
      "Risk-Free Rate      0.0%        0.0%\n",
      "Time in Market      99.0%       100.0%\n",
      "\n",
      "Cumulative Return   162.9%      9.41%\n",
      "CAGR%               64.6%       4.75%\n",
      "Sharpe              1.56        0.42\n",
      "Sortino             2.8         0.56\n",
      "Max Drawdown        -16.16%     -19.78%\n",
      "Longest DD Days     90          207\n",
      "\n",
      "Payoff Ratio        1.26        0.86\n",
      "Profit Factor       1.35        1.09\n",
      "Common Sense Ratio  1.58        0.82\n",
      "CPC Index           0.89        0.51\n",
      "Tail Ratio          1.17        0.76\n",
      "Outlier Win Ratio   2.82        9.03\n",
      "Outlier Loss Ratio  2.85        6.81\n",
      "\n",
      "MTD                 -4.78%      -9.94%\n",
      "3M                  -2.92%      -14.46%\n",
      "6M                  22.05%      -7.92%\n",
      "YTD                 51.83%      -7.03%\n",
      "1Y                  51.83%      -7.34%\n",
      "3Y (ann.)           64.6%       4.75%\n",
      "5Y (ann.)           64.6%       4.75%\n",
      "10Y (ann.)          64.6%       4.75%\n",
      "All-time (ann.)     64.6%       4.75%\n",
      "\n",
      "Avg. Drawdown       -3.96%      -1.3%\n",
      "Avg. Drawdown Days  14          15\n",
      "Recovery Factor     10.08       0.48\n",
      "Ulcer Index         1.01        1.06\n"
     ]
    },
    {
     "data": {
      "text/html": [
       "<h4>Strategy Visualization</h4>"
      ],
      "text/plain": [
       "<IPython.core.display.HTML object>"
      ]
     },
     "metadata": {},
     "output_type": "display_data"
    },
    {
     "data": {
      "image/png": "[encoded data removed]",
      "text/plain": [
       "<Figure size 576x576 with 3 Axes>"
      ]
     },
     "metadata": {},
     "output_type": "display_data"
    },
    {
     "data": {
      "image/png": "[encoded data removed]",
      "text/plain": [
       "<Figure size 599.04x288 with 2 Axes>"
      ]
     },
     "metadata": {},
     "output_type": "display_data"
    }
   ],
   "source": [
    "qs.reports.basic(portfolio.PLNT, '^GSPC')"
   ]
  },
  {
   "cell_type": "code",
   "execution_count": 59,
   "metadata": {},
   "outputs": [
    {
     "name": "stdout",
     "output_type": "stream",
     "text": [
      "Help on function basic in module quantstats.reports:\n",
      "\n",
      "basic(returns, benchmark=None, rf=0.0, grayscale=False, figsize=(8, 5), display=True, compounded=True)\n",
      "\n"
     ]
    }
   ],
   "source": [
    "help(qs.reports.basic)"
   ]
  },
  {
   "cell_type": "code",
   "execution_count": null,
   "metadata": {},
   "outputs": [],
   "source": []
  },
  {
   "cell_type": "markdown",
   "metadata": {},
   "source": [
    "# Carteras 2019"
   ]
  },
  {
   "cell_type": "code",
   "execution_count": null,
   "metadata": {},
   "outputs": [],
   "source": []
  },
  {
   "cell_type": "code",
   "execution_count": null,
   "metadata": {},
   "outputs": [],
   "source": []
  },
  {
   "cell_type": "code",
   "execution_count": null,
   "metadata": {},
   "outputs": [],
   "source": []
  },
  {
   "cell_type": "code",
   "execution_count": 20,
   "metadata": {},
   "outputs": [
    {
     "name": "stdout",
     "output_type": "stream",
     "text": [
      "Expected annual return: 43.2%\n",
      "Annual volatility: 24.1%\n",
      "Sharpe Ratio: 1.71\n"
     ]
    },
    {
     "data": {
      "text/plain": [
       "(0.43155926859139226, 0.24072225914598427, 1.7096851369353638)"
      ]
     },
     "execution_count": 20,
     "metadata": {},
     "output_type": "execute_result"
    }
   ],
   "source": [
    "ef.portfolio_performance(verbose=True)"
   ]
  },
  {
   "cell_type": "markdown",
   "metadata": {},
   "source": [
    "#### Veamos en concreto las acciones que deberìamos comprar si quicieramos gestionar una cartera con una retanbilidad considerable.\n",
    "De hecho esto es interesante pero no útil en sí mismo. Sin embargo, PyPortfolioOpt proporciona un método que le permite convertir los pesos continuos anteriores en una asignación real que puede comprar. <br>Simplemente debemos ingresar los precios más recientes y el tamaño de cartera deseado ($ 15,000 en este ejemplo):"
   ]
  },
  {
   "cell_type": "code",
   "execution_count": 21,
   "metadata": {},
   "outputs": [],
   "source": [
    "from pypfopt.discrete_allocation import DiscreteAllocation, get_latest_prices"
   ]
  },
  {
   "cell_type": "code",
   "execution_count": 22,
   "metadata": {},
   "outputs": [
    {
     "data": {
      "text/plain": [
       "NTAP     56.254948\n",
       "TXN      89.894257\n",
       "WELL     64.785973\n",
       "ORCL     43.665752\n",
       "NOW     180.330002\n",
       "TYL     181.509995\n",
       "INTC     45.133606\n",
       "PLNT     52.580002\n",
       "Name: 2018-12-28 00:00:00, dtype: float64"
      ]
     },
     "execution_count": 22,
     "metadata": {},
     "output_type": "execute_result"
    }
   ],
   "source": [
    "ultimo_precio = get_latest_prices(portfolio.iloc[:,:-1])\n",
    "ultimo_precio # ultimo precio de nuestros activos"
   ]
  },
  {
   "cell_type": "markdown",
   "metadata": {},
   "source": [
    "Recordemos los pesos"
   ]
  },
  {
   "cell_type": "code",
   "execution_count": 23,
   "metadata": {},
   "outputs": [
    {
     "name": "stdout",
     "output_type": "stream",
     "text": [
      "4 out of 8 tickers were removed\n",
      "Cartera agresiva, Cantidad de activos que deberìa comprar:  {'NTAP': 26, 'WELL': 35, 'NOW': 28, 'PLNT': 118}\n",
      "Lo que me queda: $16.18\n"
     ]
    }
   ],
   "source": [
    "pes = peso\n",
    "allocation = DiscreteAllocation(pes, ultimo_precio, total_portfolio_value=15000) # Inversiòn de $15k\n",
    "activos, leftover = allocation.lp_portfolio()\n",
    "print('Cartera agresiva, Cantidad de activos que deberìa comprar: ',activos)\n",
    "print('Lo que me queda: ${:.2f}'.format( leftover))"
   ]
  },
  {
   "cell_type": "code",
   "execution_count": 24,
   "metadata": {},
   "outputs": [
    {
     "data": {
      "text/plain": [
       "{'NTAP': 0.09838,\n",
       " 'TXN': 0.0,\n",
       " 'WELL': 0.15145,\n",
       " 'ORCL': 0.0,\n",
       " 'NOW': 0.33299,\n",
       " 'TYL': 0.0,\n",
       " 'INTC': 0.0,\n",
       " 'PLNT': 0.41717}"
      ]
     },
     "execution_count": 24,
     "metadata": {},
     "output_type": "execute_result"
    }
   ],
   "source": [
    "pes"
   ]
  },
  {
   "cell_type": "markdown",
   "metadata": {},
   "source": [
    "## Aversiòn al riesgo "
   ]
  },
  {
   "cell_type": "markdown",
   "metadata": {},
   "source": [
    "Imaginemos ahora que somos \"cuidadosos\" o simplemente somos aversos al riesgo. Bien esto es lo que deberìamos hacer:"
   ]
  },
  {
   "cell_type": "code",
   "execution_count": 53,
   "metadata": {},
   "outputs": [],
   "source": [
    "mu2 = expected_returns.mean_historical_return(portfolio.iloc[:,:-1])\n",
    "S2 = risk_models.sample_cov(portfolio.iloc[:,:-1])"
   ]
  },
  {
   "cell_type": "code",
   "execution_count": 54,
   "metadata": {},
   "outputs": [
    {
     "name": "stdout",
     "output_type": "stream",
     "text": [
      "{'NTAP': 0.00751, 'TXN': 0.07651, 'WELL': 0.42362, 'ORCL': 0.20621, 'NOW': 0.0, 'TYL': 0.25618, 'INTC': 0.01149, 'PLNT': 0.01847}\n"
     ]
    }
   ],
   "source": [
    "ef_min = EfficientFrontier(mu2, S2)\n",
    "pesos_min = ef_min.min_volatility()\n",
    "peso2 = ef_min.clean_weights()\n",
    "print(peso2)"
   ]
  },
  {
   "cell_type": "code",
   "execution_count": 55,
   "metadata": {},
   "outputs": [
    {
     "name": "stdout",
     "output_type": "stream",
     "text": [
      "Expected annual return: 12.5%\n",
      "Annual volatility: 13.8%\n",
      "Sharpe Ratio: 0.76\n"
     ]
    },
    {
     "data": {
      "text/plain": [
       "(0.12454182306429462, 0.13796845215878456, 0.7577226636128378)"
      ]
     },
     "execution_count": 55,
     "metadata": {},
     "output_type": "execute_result"
    }
   ],
   "source": [
    "ef_min.portfolio_performance(verbose=True)"
   ]
  },
  {
   "cell_type": "markdown",
   "metadata": {},
   "source": [
    "Como podemos ver el riesgo ha bajado considerablemente. Hay pero que constatar que la rentabilidad es mucho mas baja respecto al riesgo.<br> Y en fin la ratio de Sharpe no es ni siquiera de la unidad, por lo que la cartera \"agresiva\" resulta ser mejor a paridad de riesgo."
   ]
  },
  {
   "cell_type": "markdown",
   "metadata": {},
   "source": [
    "#### Veamos de todas manera como deberìamos escoger los activos si estuvieramos interesados en esta cartera"
   ]
  },
  {
   "cell_type": "code",
   "execution_count": 57,
   "metadata": {},
   "outputs": [
    {
     "name": "stdout",
     "output_type": "stream",
     "text": [
      "2 out of 8 tickers were removed\n",
      "Cartera agresiva, Cantidad de activos que deberìa comprar:  {'TXN': 13, 'WELL': 99, 'ORCL': 71, 'TYL': 21, 'INTC': 4, 'PLNT': 6}\n",
      "Lo que me queda: $9.57\n"
     ]
    }
   ],
   "source": [
    "allocation_min = DiscreteAllocation(pesos_min, ultimo_precio, total_portfolio_value=15000) # Inversiòn de $15k\n",
    "activos_min, leftover_min = allocation_min.lp_portfolio()\n",
    "print('Cartera agresiva, Cantidad de activos que deberìa comprar: ',activos_min)\n",
    "print('Lo que me queda: ${:.2f}'.format( leftover_min))"
   ]
  },
  {
   "cell_type": "code",
   "execution_count": 58,
   "metadata": {},
   "outputs": [
    {
     "data": {
      "text/plain": [
       "{'NTAP': 0.007513894197135294,\n",
       " 'TXN': 0.07651282140480216,\n",
       " 'WELL': 0.4236196790455821,\n",
       " 'ORCL': 0.20621499400739907,\n",
       " 'NOW': 0.0,\n",
       " 'TYL': 0.2561779611178771,\n",
       " 'INTC': 0.011491599138683252,\n",
       " 'PLNT': 0.0184690510885211}"
      ]
     },
     "execution_count": 58,
     "metadata": {},
     "output_type": "execute_result"
    }
   ],
   "source": [
    "pesos_min"
   ]
  },
  {
   "cell_type": "markdown",
   "metadata": {},
   "source": [
    "Tal como lo esperabamos. Ahora deberiamos bajar la acciones de **Planet Fitness.** <br>Por tanto, con una cartera de **minimo riesgo** deberiamos: **comprar 13 de TXN, 21 de TYL, 4 de INTC y 71 de ORCL.**"
   ]
  },
  {
   "cell_type": "code",
   "execution_count": 60,
   "metadata": {},
   "outputs": [
    {
     "data": {
      "text/html": [
       "<div>\n",
       "<style scoped>\n",
       "    .dataframe tbody tr th:only-of-type {\n",
       "        vertical-align: middle;\n",
       "    }\n",
       "\n",
       "    .dataframe tbody tr th {\n",
       "        vertical-align: top;\n",
       "    }\n",
       "\n",
       "    .dataframe thead th {\n",
       "        text-align: right;\n",
       "    }\n",
       "</style>\n",
       "<table border=\"1\" class=\"dataframe\">\n",
       "  <thead>\n",
       "    <tr style=\"text-align: right;\">\n",
       "      <th></th>\n",
       "      <th>Activos_risk</th>\n",
       "      <th>Peso_min</th>\n",
       "      <th>Sharpe_activos</th>\n",
       "      <th>Peso Sharpe</th>\n",
       "    </tr>\n",
       "  </thead>\n",
       "  <tbody>\n",
       "    <tr>\n",
       "      <th>TXN</th>\n",
       "      <td>13.0</td>\n",
       "      <td>0.076513</td>\n",
       "      <td>NaN</td>\n",
       "      <td>0.00000</td>\n",
       "    </tr>\n",
       "    <tr>\n",
       "      <th>WELL</th>\n",
       "      <td>99.0</td>\n",
       "      <td>0.423620</td>\n",
       "      <td>35.0</td>\n",
       "      <td>0.15145</td>\n",
       "    </tr>\n",
       "    <tr>\n",
       "      <th>ORCL</th>\n",
       "      <td>71.0</td>\n",
       "      <td>0.206215</td>\n",
       "      <td>NaN</td>\n",
       "      <td>0.00000</td>\n",
       "    </tr>\n",
       "    <tr>\n",
       "      <th>TYL</th>\n",
       "      <td>21.0</td>\n",
       "      <td>0.256178</td>\n",
       "      <td>NaN</td>\n",
       "      <td>0.00000</td>\n",
       "    </tr>\n",
       "    <tr>\n",
       "      <th>INTC</th>\n",
       "      <td>4.0</td>\n",
       "      <td>0.011492</td>\n",
       "      <td>NaN</td>\n",
       "      <td>0.00000</td>\n",
       "    </tr>\n",
       "    <tr>\n",
       "      <th>PLNT</th>\n",
       "      <td>6.0</td>\n",
       "      <td>0.018469</td>\n",
       "      <td>118.0</td>\n",
       "      <td>0.41717</td>\n",
       "    </tr>\n",
       "    <tr>\n",
       "      <th>NTAP</th>\n",
       "      <td>NaN</td>\n",
       "      <td>0.007514</td>\n",
       "      <td>26.0</td>\n",
       "      <td>0.09838</td>\n",
       "    </tr>\n",
       "    <tr>\n",
       "      <th>NOW</th>\n",
       "      <td>NaN</td>\n",
       "      <td>0.000000</td>\n",
       "      <td>28.0</td>\n",
       "      <td>0.33299</td>\n",
       "    </tr>\n",
       "  </tbody>\n",
       "</table>\n",
       "</div>"
      ],
      "text/plain": [
       "      Activos_risk  Peso_min  Sharpe_activos  Peso Sharpe\n",
       "TXN           13.0  0.076513             NaN      0.00000\n",
       "WELL          99.0  0.423620            35.0      0.15145\n",
       "ORCL          71.0  0.206215             NaN      0.00000\n",
       "TYL           21.0  0.256178             NaN      0.00000\n",
       "INTC           4.0  0.011492             NaN      0.00000\n",
       "PLNT           6.0  0.018469           118.0      0.41717\n",
       "NTAP           NaN  0.007514            26.0      0.09838\n",
       "NOW            NaN  0.000000            28.0      0.33299"
      ]
     },
     "execution_count": 60,
     "metadata": {},
     "output_type": "execute_result"
    }
   ],
   "source": [
    "sumario_bienio = pd.DataFrame({'Activos_risk':activos_min,'Peso_min':pesos_min,'Sharpe_activos':activos, 'Peso Sharpe':pes})\n",
    "sumario_bienio # Ya que no llega al 1% automaticamente no se invierte en NetApp "
   ]
  },
  {
   "cell_type": "markdown",
   "metadata": {},
   "source": [
    "Como era de esperarselo: NaN coloca un peso de 0% probando el hecho que no se deberian comprar tal activos si quisieramos tal cartera."
   ]
  },
  {
   "cell_type": "markdown",
   "metadata": {},
   "source": [
    "# Performance"
   ]
  },
  {
   "cell_type": "code",
   "execution_count": 30,
   "metadata": {},
   "outputs": [
    {
     "name": "stdout",
     "output_type": "stream",
     "text": [
      "[*********************100%***********************]  1 of 1 completed\n",
      "[*********************100%***********************]  1 of 1 completed\n",
      "[*********************100%***********************]  1 of 1 completed\n",
      "[*********************100%***********************]  1 of 1 completed\n",
      "[*********************100%***********************]  1 of 1 completed\n",
      "[*********************100%***********************]  1 of 1 completed\n",
      "[*********************100%***********************]  1 of 1 completed\n",
      "[*********************100%***********************]  1 of 1 completed\n",
      "[*********************100%***********************]  1 of 1 completed\n"
     ]
    }
   ],
   "source": [
    "start2, end2 = datetime(2019,1,1), datetime(2019,12,31) #Periodo nuevo\n",
    "portfolio_new = pd.DataFrame()\n",
    "stocks_new = ['NTAP', 'TXN', 'WELL', 'ORCL', 'NOW', 'TYL', 'INTC', 'PLNT', '^GSPC']\n",
    "for stock in stocks_new:\n",
    "    load2 = yf.download(stock, start2, end2)\n",
    "    portfolio_new[stock] = load2['Adj Close']"
   ]
  },
  {
   "cell_type": "markdown",
   "metadata": {},
   "source": [
    "En fin, para hacer la comparativa descargamos los datos esta vez para el 2019 y construimos las mismas carteras obtenidas en los dos años previos.\n",
    "Haciendo una rápida descriptiva respecto a lo que sucedió en los últimos dos años, observamos:\n"
   ]
  },
  {
   "cell_type": "code",
   "execution_count": 31,
   "metadata": {},
   "outputs": [
    {
     "data": {
      "text/html": [
       "<div>\n",
       "<style scoped>\n",
       "    .dataframe tbody tr th:only-of-type {\n",
       "        vertical-align: middle;\n",
       "    }\n",
       "\n",
       "    .dataframe tbody tr th {\n",
       "        vertical-align: top;\n",
       "    }\n",
       "\n",
       "    .dataframe thead th {\n",
       "        text-align: right;\n",
       "    }\n",
       "</style>\n",
       "<table border=\"1\" class=\"dataframe\">\n",
       "  <thead>\n",
       "    <tr style=\"text-align: right;\">\n",
       "      <th></th>\n",
       "      <th>NTAP</th>\n",
       "      <th>TXN</th>\n",
       "      <th>WELL</th>\n",
       "      <th>ORCL</th>\n",
       "      <th>NOW</th>\n",
       "      <th>TYL</th>\n",
       "      <th>INTC</th>\n",
       "      <th>PLNT</th>\n",
       "      <th>^GSPC</th>\n",
       "    </tr>\n",
       "  </thead>\n",
       "  <tbody>\n",
       "    <tr>\n",
       "      <th>count</th>\n",
       "      <td>252.000</td>\n",
       "      <td>252.000</td>\n",
       "      <td>252.000</td>\n",
       "      <td>252.000</td>\n",
       "      <td>252.000</td>\n",
       "      <td>252.000</td>\n",
       "      <td>252.000</td>\n",
       "      <td>252.000</td>\n",
       "      <td>252.000</td>\n",
       "    </tr>\n",
       "    <tr>\n",
       "      <th>mean</th>\n",
       "      <td>58.958</td>\n",
       "      <td>112.462</td>\n",
       "      <td>77.999</td>\n",
       "      <td>52.983</td>\n",
       "      <td>254.443</td>\n",
       "      <td>234.659</td>\n",
       "      <td>50.222</td>\n",
       "      <td>68.429</td>\n",
       "      <td>2910.484</td>\n",
       "    </tr>\n",
       "    <tr>\n",
       "      <th>std</th>\n",
       "      <td>6.784</td>\n",
       "      <td>10.003</td>\n",
       "      <td>6.577</td>\n",
       "      <td>2.739</td>\n",
       "      <td>27.485</td>\n",
       "      <td>32.391</td>\n",
       "      <td>4.420</td>\n",
       "      <td>7.560</td>\n",
       "      <td>151.491</td>\n",
       "    </tr>\n",
       "    <tr>\n",
       "      <th>min</th>\n",
       "      <td>43.424</td>\n",
       "      <td>85.170</td>\n",
       "      <td>62.843</td>\n",
       "      <td>43.627</td>\n",
       "      <td>169.120</td>\n",
       "      <td>176.630</td>\n",
       "      <td>42.482</td>\n",
       "      <td>52.800</td>\n",
       "      <td>2447.890</td>\n",
       "    </tr>\n",
       "    <tr>\n",
       "      <th>25%</th>\n",
       "      <td>55.175</td>\n",
       "      <td>103.876</td>\n",
       "      <td>72.228</td>\n",
       "      <td>51.614</td>\n",
       "      <td>241.168</td>\n",
       "      <td>209.993</td>\n",
       "      <td>46.398</td>\n",
       "      <td>60.828</td>\n",
       "      <td>2821.295</td>\n",
       "    </tr>\n",
       "    <tr>\n",
       "      <th>50%</th>\n",
       "      <td>59.305</td>\n",
       "      <td>113.274</td>\n",
       "      <td>78.690</td>\n",
       "      <td>53.076</td>\n",
       "      <td>260.220</td>\n",
       "      <td>222.875</td>\n",
       "      <td>50.020</td>\n",
       "      <td>70.510</td>\n",
       "      <td>2918.200</td>\n",
       "    </tr>\n",
       "    <tr>\n",
       "      <th>75%</th>\n",
       "      <td>62.881</td>\n",
       "      <td>120.562</td>\n",
       "      <td>83.088</td>\n",
       "      <td>54.574</td>\n",
       "      <td>273.025</td>\n",
       "      <td>260.225</td>\n",
       "      <td>52.857</td>\n",
       "      <td>74.760</td>\n",
       "      <td>3000.165</td>\n",
       "    </tr>\n",
       "    <tr>\n",
       "      <th>max</th>\n",
       "      <td>74.870</td>\n",
       "      <td>128.761</td>\n",
       "      <td>89.228</td>\n",
       "      <td>59.096</td>\n",
       "      <td>302.310</td>\n",
       "      <td>300.570</td>\n",
       "      <td>59.450</td>\n",
       "      <td>80.900</td>\n",
       "      <td>3240.020</td>\n",
       "    </tr>\n",
       "  </tbody>\n",
       "</table>\n",
       "</div>"
      ],
      "text/plain": [
       "          NTAP      TXN     WELL     ORCL      NOW      TYL     INTC     PLNT  \\\n",
       "count  252.000  252.000  252.000  252.000  252.000  252.000  252.000  252.000   \n",
       "mean    58.958  112.462   77.999   52.983  254.443  234.659   50.222   68.429   \n",
       "std      6.784   10.003    6.577    2.739   27.485   32.391    4.420    7.560   \n",
       "min     43.424   85.170   62.843   43.627  169.120  176.630   42.482   52.800   \n",
       "25%     55.175  103.876   72.228   51.614  241.168  209.993   46.398   60.828   \n",
       "50%     59.305  113.274   78.690   53.076  260.220  222.875   50.020   70.510   \n",
       "75%     62.881  120.562   83.088   54.574  273.025  260.225   52.857   74.760   \n",
       "max     74.870  128.761   89.228   59.096  302.310  300.570   59.450   80.900   \n",
       "\n",
       "          ^GSPC  \n",
       "count   252.000  \n",
       "mean   2910.484  \n",
       "std     151.491  \n",
       "min    2447.890  \n",
       "25%    2821.295  \n",
       "50%    2918.200  \n",
       "75%    3000.165  \n",
       "max    3240.020  "
      ]
     },
     "execution_count": 31,
     "metadata": {},
     "output_type": "execute_result"
    }
   ],
   "source": [
    "portfolio_new.describe().round(3)"
   ]
  },
  {
   "cell_type": "markdown",
   "metadata": {},
   "source": [
    "Que NetApp (NET) ha tenido una rentabilidad muy baja en respecto a lo que se puede decir de su riesgo, como podemos observar este se ha disparado hasta romper el muro del 10%.\n",
    "Por otro lado, este activo no ha sido el solo en presentar una volatilidad bastante importante, entre estos destaca el caso de NOW y de INTC, cuya volatilidad no ha hecho que aumentar con respecto a los dos periodos pasados.\n",
    "Para el caso de Texas Inc. destaca el hecho que ha sabido rescatarse por la baja rentabilidad tendida en los dos primeros años del 45° mandatario norteamericano.\n",
    "Entre esto títulos destaca el caso de TylerTechnologies (TYL), este no solamente ha reducido su volatilidad respecto a los periodos pasados, sino que ha tenido una rentabilidad verdaderamente notable, en particular destaca como haya iniciado el 4 de enero del 2019 con un precio por acción de \\\\$180,86 y haya acabado el 31 de diciembre 2019 a \\\\$300,02.\n",
    " \n"
   ]
  },
  {
   "cell_type": "markdown",
   "metadata": {},
   "source": [
    "# Matriz de correlacion 2019"
   ]
  },
  {
   "cell_type": "code",
   "execution_count": 114,
   "metadata": {},
   "outputs": [
    {
     "data": {
      "image/png": "[encoded data removed]",
      "text/plain": [
       "<Figure size 1080x360 with 4 Axes>"
      ]
     },
     "metadata": {},
     "output_type": "display_data"
    }
   ],
   "source": [
    "plt.rcParams['figure.figsize'] = [15,5]\n",
    "plt.subplot(1,2,1)\n",
    "matrix2 = portfolio_new.corr()\n",
    "#plt.figure(figsize=(8,5))\n",
    "sns.heatmap(matrix2, annot=True)\n",
    "plt.title('Matriz de correlaciones con S&P 500 en 2019', fontweight='bold')\n",
    "plt.subplot(1,2,2)\n",
    "matrix = portfolio.corr()\n",
    "#plt.figure(figsize=(8,5))\n",
    "sns.heatmap(matrix, annot=True)\n",
    "plt.title('Matriz de correlaciones con S&P 500', fontweight='bold')\n",
    "\n",
    "plt.show()"
   ]
  },
  {
   "cell_type": "markdown",
   "metadata": {},
   "source": [
    "A simple vista vemos como la matriz aparezca un poco más oscura, en este caso estaría a significar\n",
    "una mayor correlación entre los títulos. <br>En específico veíamos más claro en el caso de ORCL y\n",
    "NetApp (NET), ahora notamos en vez una mayor correlación no solamente con los demás activos\n",
    "sino también con el índice S&P 500.\n"
   ]
  },
  {
   "cell_type": "markdown",
   "metadata": {},
   "source": [
    "# Carteras 2019"
   ]
  },
  {
   "cell_type": "code",
   "execution_count": 32,
   "metadata": {},
   "outputs": [
    {
     "data": {
      "text/plain": [
       "NTAP    0.002692\n",
       "TXN     0.024051\n",
       "WELL    0.014167\n",
       "ORCL    0.011979\n",
       "NOW     0.034456\n",
       "TYL     0.038968\n",
       "INTC    0.018514\n",
       "PLNT    0.022335\n",
       "dtype: float64"
      ]
     },
     "execution_count": 32,
     "metadata": {},
     "output_type": "execute_result"
    }
   ],
   "source": [
    "# Rentabilidad mensual\n",
    "rentabilidad2 = np.log(portfolio_new.iloc[:,:-1]/portfolio_new.iloc[:,:-1].shift(20)).dropna().mean()\n",
    "rentabilidad2 "
   ]
  },
  {
   "cell_type": "code",
   "execution_count": 34,
   "metadata": {},
   "outputs": [
    {
     "data": {
      "text/html": [
       "<div>\n",
       "<style scoped>\n",
       "    .dataframe tbody tr th:only-of-type {\n",
       "        vertical-align: middle;\n",
       "    }\n",
       "\n",
       "    .dataframe tbody tr th {\n",
       "        vertical-align: top;\n",
       "    }\n",
       "\n",
       "    .dataframe thead th {\n",
       "        text-align: right;\n",
       "    }\n",
       "</style>\n",
       "<table border=\"1\" class=\"dataframe\">\n",
       "  <thead>\n",
       "    <tr style=\"text-align: right;\">\n",
       "      <th></th>\n",
       "      <th>NTAP</th>\n",
       "      <th>TXN</th>\n",
       "      <th>WELL</th>\n",
       "      <th>ORCL</th>\n",
       "      <th>NOW</th>\n",
       "      <th>TYL</th>\n",
       "      <th>INTC</th>\n",
       "      <th>PLNT</th>\n",
       "    </tr>\n",
       "  </thead>\n",
       "  <tbody>\n",
       "    <tr>\n",
       "      <th>NTAP</th>\n",
       "      <td>0.271027</td>\n",
       "      <td>0.033263</td>\n",
       "      <td>-0.053465</td>\n",
       "      <td>0.072674</td>\n",
       "      <td>0.071683</td>\n",
       "      <td>-0.002107</td>\n",
       "      <td>0.140255</td>\n",
       "      <td>0.048019</td>\n",
       "    </tr>\n",
       "    <tr>\n",
       "      <th>TXN</th>\n",
       "      <td>0.033263</td>\n",
       "      <td>0.066779</td>\n",
       "      <td>-0.002771</td>\n",
       "      <td>0.023217</td>\n",
       "      <td>0.030376</td>\n",
       "      <td>0.022689</td>\n",
       "      <td>0.041170</td>\n",
       "      <td>-0.016699</td>\n",
       "    </tr>\n",
       "    <tr>\n",
       "      <th>WELL</th>\n",
       "      <td>-0.053465</td>\n",
       "      <td>-0.002771</td>\n",
       "      <td>0.052081</td>\n",
       "      <td>-0.002437</td>\n",
       "      <td>0.008650</td>\n",
       "      <td>-0.004489</td>\n",
       "      <td>-0.045069</td>\n",
       "      <td>-0.030930</td>\n",
       "    </tr>\n",
       "    <tr>\n",
       "      <th>ORCL</th>\n",
       "      <td>0.072674</td>\n",
       "      <td>0.023217</td>\n",
       "      <td>-0.002437</td>\n",
       "      <td>0.056087</td>\n",
       "      <td>0.056500</td>\n",
       "      <td>-0.002704</td>\n",
       "      <td>0.047463</td>\n",
       "      <td>0.016234</td>\n",
       "    </tr>\n",
       "    <tr>\n",
       "      <th>NOW</th>\n",
       "      <td>0.071683</td>\n",
       "      <td>0.030376</td>\n",
       "      <td>0.008650</td>\n",
       "      <td>0.056500</td>\n",
       "      <td>0.166047</td>\n",
       "      <td>0.013634</td>\n",
       "      <td>0.012656</td>\n",
       "      <td>0.054199</td>\n",
       "    </tr>\n",
       "    <tr>\n",
       "      <th>TYL</th>\n",
       "      <td>-0.002107</td>\n",
       "      <td>0.022689</td>\n",
       "      <td>-0.004489</td>\n",
       "      <td>-0.002704</td>\n",
       "      <td>0.013634</td>\n",
       "      <td>0.051266</td>\n",
       "      <td>0.013842</td>\n",
       "      <td>-0.005827</td>\n",
       "    </tr>\n",
       "    <tr>\n",
       "      <th>INTC</th>\n",
       "      <td>0.140255</td>\n",
       "      <td>0.041170</td>\n",
       "      <td>-0.045069</td>\n",
       "      <td>0.047463</td>\n",
       "      <td>0.012656</td>\n",
       "      <td>0.013842</td>\n",
       "      <td>0.161710</td>\n",
       "      <td>0.011199</td>\n",
       "    </tr>\n",
       "    <tr>\n",
       "      <th>PLNT</th>\n",
       "      <td>0.048019</td>\n",
       "      <td>-0.016699</td>\n",
       "      <td>-0.030930</td>\n",
       "      <td>0.016234</td>\n",
       "      <td>0.054199</td>\n",
       "      <td>-0.005827</td>\n",
       "      <td>0.011199</td>\n",
       "      <td>0.161161</td>\n",
       "    </tr>\n",
       "  </tbody>\n",
       "</table>\n",
       "</div>"
      ],
      "text/plain": [
       "          NTAP       TXN      WELL      ORCL       NOW       TYL      INTC  \\\n",
       "NTAP  0.271027  0.033263 -0.053465  0.072674  0.071683 -0.002107  0.140255   \n",
       "TXN   0.033263  0.066779 -0.002771  0.023217  0.030376  0.022689  0.041170   \n",
       "WELL -0.053465 -0.002771  0.052081 -0.002437  0.008650 -0.004489 -0.045069   \n",
       "ORCL  0.072674  0.023217 -0.002437  0.056087  0.056500 -0.002704  0.047463   \n",
       "NOW   0.071683  0.030376  0.008650  0.056500  0.166047  0.013634  0.012656   \n",
       "TYL  -0.002107  0.022689 -0.004489 -0.002704  0.013634  0.051266  0.013842   \n",
       "INTC  0.140255  0.041170 -0.045069  0.047463  0.012656  0.013842  0.161710   \n",
       "PLNT  0.048019 -0.016699 -0.030930  0.016234  0.054199 -0.005827  0.011199   \n",
       "\n",
       "          PLNT  \n",
       "NTAP  0.048019  \n",
       "TXN  -0.016699  \n",
       "WELL -0.030930  \n",
       "ORCL  0.016234  \n",
       "NOW   0.054199  \n",
       "TYL  -0.005827  \n",
       "INTC  0.011199  \n",
       "PLNT  0.161161  "
      ]
     },
     "execution_count": 34,
     "metadata": {},
     "output_type": "execute_result"
    }
   ],
   "source": [
    "w2 = np.repeat(0.125, 8)     # Pesos de los activo: Suponemos una inversiòn por igual de ellos inicial.\n",
    "cov_matrix_new = np.log(portfolio_new.iloc[:,:-1]/portfolio_new.iloc[:,:-1].shift(20)).dropna().cov()*20 # Matriz de covarianza\n",
    "cov_matrix_new"
   ]
  },
  {
   "cell_type": "code",
   "execution_count": 35,
   "metadata": {},
   "outputs": [
    {
     "data": {
      "text/plain": [
       "0.03263448857847456"
      ]
     },
     "execution_count": 35,
     "metadata": {},
     "output_type": "execute_result"
    }
   ],
   "source": [
    "# Varianza de la cartera \n",
    "cartera_var_new = np.dot(w2.T, np.dot(cov_matrix_new, w2))\n",
    "cartera_var_new"
   ]
  },
  {
   "cell_type": "code",
   "execution_count": 36,
   "metadata": {},
   "outputs": [
    {
     "data": {
      "text/plain": [
       "0.18065018289078635"
      ]
     },
     "execution_count": 36,
     "metadata": {},
     "output_type": "execute_result"
    }
   ],
   "source": [
    "# Calculamos la volatilidad osea la Desviaciòn\n",
    "volatilidad2 = np.sqrt(cartera_var_new)\n",
    "volatilidad2"
   ]
  },
  {
   "cell_type": "code",
   "execution_count": 37,
   "metadata": {},
   "outputs": [
    {
     "data": {
      "text/plain": [
       "0.41790105304664565"
      ]
     },
     "execution_count": 37,
     "metadata": {},
     "output_type": "execute_result"
    }
   ],
   "source": [
    "# Calculamos la rentabilidad anual\n",
    "rentabilidad_anual2 = np.sum(rentabilidad2 * w2)*20\n",
    "rentabilidad_anual2"
   ]
  },
  {
   "cell_type": "code",
   "execution_count": 38,
   "metadata": {},
   "outputs": [
    {
     "name": "stdout",
     "output_type": "stream",
     "text": [
      "Rentabilidad esperada:  42.0%\n",
      "Volatilidad/Riesgo:  18.0%\n",
      "Varianza:  3.0%\n"
     ]
    }
   ],
   "source": [
    "# Resumiendo \n",
    "p_var2 = str(round(cartera_var_new, 2)*100)+'%'\n",
    "p_vol2 = str(round(volatilidad2, 2)*100)+'%'\n",
    "p_ret2 = str(round(rentabilidad_anual2, 2)*100)+'%'\n",
    "\n",
    "print('Rentabilidad esperada: ', p_ret2)\n",
    "print('Volatilidad/Riesgo: ', p_vol2)\n",
    "print('Varianza: ', p_var2)"
   ]
  },
  {
   "cell_type": "code",
   "execution_count": 39,
   "metadata": {},
   "outputs": [],
   "source": [
    "mu_new = expected_returns.mean_historical_return(portfolio_new.iloc[:,:-1])\n",
    "S_new = risk_models.sample_cov(portfolio_new.iloc[:,:-1])"
   ]
  },
  {
   "cell_type": "code",
   "execution_count": 40,
   "metadata": {},
   "outputs": [
    {
     "name": "stdout",
     "output_type": "stream",
     "text": [
      "{'NTAP': 0.0, 'TXN': 0.04554, 'WELL': 0.27287, 'ORCL': 0.0, 'NOW': 0.0, 'TYL': 0.48401, 'INTC': 0.1066, 'PLNT': 0.09097}\n"
     ]
    }
   ],
   "source": [
    "# Optimizar segun la ratio de Sharpe\n",
    "ef_new = EfficientFrontier(mu_new, S_new)\n",
    "pesos_sharpe_new = ef_new.max_sharpe()\n",
    "peso_new = ef_new.clean_weights()\n",
    "print(peso_new)"
   ]
  },
  {
   "cell_type": "code",
   "execution_count": 41,
   "metadata": {},
   "outputs": [
    {
     "name": "stdout",
     "output_type": "stream",
     "text": [
      "Expected annual return: 38.2%\n",
      "Annual volatility: 14.4%\n",
      "Sharpe Ratio: 2.52\n"
     ]
    },
    {
     "data": {
      "text/plain": [
       "(0.38186231148164596, 0.14353602159585316, 2.521055742373316)"
      ]
     },
     "execution_count": 41,
     "metadata": {},
     "output_type": "execute_result"
    }
   ],
   "source": [
    "ef_new.portfolio_performance(verbose=True)"
   ]
  },
  {
   "cell_type": "code",
   "execution_count": 42,
   "metadata": {},
   "outputs": [
    {
     "data": {
      "text/plain": [
       "NTAP     60.323071\n",
       "TXN     125.761673\n",
       "WELL     79.005661\n",
       "ORCL     52.218403\n",
       "NOW     282.809998\n",
       "TYL     298.359985\n",
       "INTC     58.994587\n",
       "PLNT     74.190002\n",
       "Name: 2019-12-30 00:00:00, dtype: float64"
      ]
     },
     "execution_count": 42,
     "metadata": {},
     "output_type": "execute_result"
    }
   ],
   "source": [
    "ultimo_precio_new = get_latest_prices(portfolio_new.iloc[:,:-1])\n",
    "ultimo_precio_new # ultimo precio de nuestros activos"
   ]
  },
  {
   "cell_type": "code",
   "execution_count": 51,
   "metadata": {},
   "outputs": [
    {
     "name": "stdout",
     "output_type": "stream",
     "text": [
      "3 out of 8 tickers were removed\n",
      "Cartera agresiva, Cantidad de activos que deberìa comprar:  {'TXN': 6, 'WELL': 52, 'TYL': 24, 'INTC': 27, 'PLNT': 18}\n",
      "Lo que me queda: $48.22\n"
     ]
    }
   ],
   "source": [
    "#pes_new = peso\n",
    "allocation_new = DiscreteAllocation(peso_new, ultimo_precio_new, total_portfolio_value=15000) # Inversiòn de $15k\n",
    "activos_new, leftover_new = allocation_new.lp_portfolio()\n",
    "print('Cartera agresiva, Cantidad de activos que deberìa comprar: ',activos_new)\n",
    "print('Lo que me queda: ${:.2f}'.format( leftover_new))"
   ]
  },
  {
   "cell_type": "markdown",
   "metadata": {},
   "source": [
    "## Minimizando el riesgo"
   ]
  },
  {
   "cell_type": "code",
   "execution_count": 44,
   "metadata": {},
   "outputs": [],
   "source": [
    "mu_new2 = expected_returns.mean_historical_return(portfolio_new.iloc[:,:-1])\n",
    "S_new2 = risk_models.sample_cov(portfolio_new.iloc[:,:-1])"
   ]
  },
  {
   "cell_type": "code",
   "execution_count": 45,
   "metadata": {},
   "outputs": [
    {
     "name": "stdout",
     "output_type": "stream",
     "text": [
      "{'NTAP': 0.03608, 'TXN': 0.0, 'WELL': 0.44241, 'ORCL': 0.17631, 'NOW': 0.0, 'TYL': 0.14135, 'INTC': 0.13726, 'PLNT': 0.06659}\n"
     ]
    }
   ],
   "source": [
    "# Optimizar segun Minimo riesgo\n",
    "ef_new2 = EfficientFrontier(mu_new2, S_new2)\n",
    "pesos_sharpe_new2 = ef_new2.min_volatility()\n",
    "peso_new2 = ef_new2.clean_weights()\n",
    "print(peso_new2)"
   ]
  },
  {
   "cell_type": "code",
   "execution_count": 46,
   "metadata": {},
   "outputs": [
    {
     "name": "stdout",
     "output_type": "stream",
     "text": [
      "Expected annual return: 27.0%\n",
      "Annual volatility: 12.2%\n",
      "Sharpe Ratio: 2.05\n"
     ]
    },
    {
     "data": {
      "text/plain": [
       "(0.26973157997459285, 0.12172754635304947, 2.051561766063123)"
      ]
     },
     "execution_count": 46,
     "metadata": {},
     "output_type": "execute_result"
    }
   ],
   "source": [
    "ef_new2.portfolio_performance(verbose=True)"
   ]
  },
  {
   "cell_type": "code",
   "execution_count": 47,
   "metadata": {},
   "outputs": [
    {
     "data": {
      "text/plain": [
       "NTAP     60.323071\n",
       "TXN     125.761673\n",
       "WELL     79.005661\n",
       "ORCL     52.218403\n",
       "NOW     282.809998\n",
       "TYL     298.359985\n",
       "INTC     58.994587\n",
       "PLNT     74.190002\n",
       "Name: 2019-12-30 00:00:00, dtype: float64"
      ]
     },
     "execution_count": 47,
     "metadata": {},
     "output_type": "execute_result"
    }
   ],
   "source": [
    "ultimo_precio_new2 = get_latest_prices(portfolio_new.iloc[:,:-1])\n",
    "ultimo_precio_new2 # ultimo precio de nuestros activos"
   ]
  },
  {
   "cell_type": "code",
   "execution_count": 48,
   "metadata": {},
   "outputs": [
    {
     "name": "stdout",
     "output_type": "stream",
     "text": [
      "2 out of 8 tickers were removed\n",
      "Cartera agresiva, Cantidad de activos que deberìa comprar:  {'NTAP': 9, 'WELL': 84, 'ORCL': 50, 'TYL': 7, 'INTC': 35, 'PLNT': 14}\n",
      "Lo que me queda: $17.71\n"
     ]
    }
   ],
   "source": [
    "peso_new2 \n",
    "allocation_new2 = DiscreteAllocation(peso_new2, ultimo_precio_new2, total_portfolio_value=15000) # Inversiòn de $15k\n",
    "activos_new2, leftover_new2 = allocation_new2.lp_portfolio()\n",
    "print('Cartera agresiva, Cantidad de activos que deberìa comprar: ',activos_new2)\n",
    "print('Lo que me queda: ${:.2f}'.format( leftover_new2))"
   ]
  },
  {
   "cell_type": "code",
   "execution_count": 52,
   "metadata": {},
   "outputs": [
    {
     "data": {
      "text/html": [
       "<div>\n",
       "<style scoped>\n",
       "    .dataframe tbody tr th:only-of-type {\n",
       "        vertical-align: middle;\n",
       "    }\n",
       "\n",
       "    .dataframe tbody tr th {\n",
       "        vertical-align: top;\n",
       "    }\n",
       "\n",
       "    .dataframe thead th {\n",
       "        text-align: right;\n",
       "    }\n",
       "</style>\n",
       "<table border=\"1\" class=\"dataframe\">\n",
       "  <thead>\n",
       "    <tr style=\"text-align: right;\">\n",
       "      <th></th>\n",
       "      <th>Min_risk_CA</th>\n",
       "      <th>Peso_min_risk</th>\n",
       "      <th>Sharpe_activos_CA</th>\n",
       "      <th>Peso_Sharpe</th>\n",
       "    </tr>\n",
       "  </thead>\n",
       "  <tbody>\n",
       "    <tr>\n",
       "      <th>NTAP</th>\n",
       "      <td>9.0</td>\n",
       "      <td>0.03608</td>\n",
       "      <td>NaN</td>\n",
       "      <td>0.00000</td>\n",
       "    </tr>\n",
       "    <tr>\n",
       "      <th>WELL</th>\n",
       "      <td>84.0</td>\n",
       "      <td>0.44241</td>\n",
       "      <td>52.0</td>\n",
       "      <td>0.27287</td>\n",
       "    </tr>\n",
       "    <tr>\n",
       "      <th>ORCL</th>\n",
       "      <td>50.0</td>\n",
       "      <td>0.17631</td>\n",
       "      <td>NaN</td>\n",
       "      <td>0.00000</td>\n",
       "    </tr>\n",
       "    <tr>\n",
       "      <th>TYL</th>\n",
       "      <td>7.0</td>\n",
       "      <td>0.14135</td>\n",
       "      <td>24.0</td>\n",
       "      <td>0.48401</td>\n",
       "    </tr>\n",
       "    <tr>\n",
       "      <th>INTC</th>\n",
       "      <td>35.0</td>\n",
       "      <td>0.13726</td>\n",
       "      <td>27.0</td>\n",
       "      <td>0.10660</td>\n",
       "    </tr>\n",
       "    <tr>\n",
       "      <th>PLNT</th>\n",
       "      <td>14.0</td>\n",
       "      <td>0.06659</td>\n",
       "      <td>18.0</td>\n",
       "      <td>0.09097</td>\n",
       "    </tr>\n",
       "    <tr>\n",
       "      <th>TXN</th>\n",
       "      <td>NaN</td>\n",
       "      <td>0.00000</td>\n",
       "      <td>6.0</td>\n",
       "      <td>0.04554</td>\n",
       "    </tr>\n",
       "    <tr>\n",
       "      <th>NOW</th>\n",
       "      <td>NaN</td>\n",
       "      <td>0.00000</td>\n",
       "      <td>NaN</td>\n",
       "      <td>0.00000</td>\n",
       "    </tr>\n",
       "  </tbody>\n",
       "</table>\n",
       "</div>"
      ],
      "text/plain": [
       "      Min_risk_CA  Peso_min_risk  Sharpe_activos_CA  Peso_Sharpe\n",
       "NTAP          9.0        0.03608                NaN      0.00000\n",
       "WELL         84.0        0.44241               52.0      0.27287\n",
       "ORCL         50.0        0.17631                NaN      0.00000\n",
       "TYL           7.0        0.14135               24.0      0.48401\n",
       "INTC         35.0        0.13726               27.0      0.10660\n",
       "PLNT         14.0        0.06659               18.0      0.09097\n",
       "TXN           NaN        0.00000                6.0      0.04554\n",
       "NOW           NaN        0.00000                NaN      0.00000"
      ]
     },
     "execution_count": 52,
     "metadata": {},
     "output_type": "execute_result"
    }
   ],
   "source": [
    "sumario_2019 = pd.DataFrame({'Min_risk_CA':activos_new2,'Peso_min_risk':peso_new2,\n",
    "                        'Sharpe_activos_CA':activos_new, 'Peso_Sharpe':peso_new})\n",
    "sumario_2019"
   ]
  },
  {
   "cell_type": "code",
   "execution_count": null,
   "metadata": {},
   "outputs": [],
   "source": []
  },
  {
   "cell_type": "code",
   "execution_count": null,
   "metadata": {},
   "outputs": [],
   "source": []
  },
  {
   "cell_type": "code",
   "execution_count": null,
   "metadata": {},
   "outputs": [],
   "source": []
  },
  {
   "cell_type": "code",
   "execution_count": null,
   "metadata": {},
   "outputs": [],
   "source": []
  },
  {
   "cell_type": "code",
   "execution_count": null,
   "metadata": {},
   "outputs": [],
   "source": []
  },
  {
   "cell_type": "code",
   "execution_count": null,
   "metadata": {},
   "outputs": [],
   "source": []
  },
  {
   "cell_type": "code",
   "execution_count": null,
   "metadata": {},
   "outputs": [],
   "source": []
  },
  {
   "cell_type": "code",
   "execution_count": null,
   "metadata": {},
   "outputs": [],
   "source": []
  },
  {
   "cell_type": "code",
   "execution_count": null,
   "metadata": {},
   "outputs": [],
   "source": []
  },
  {
   "cell_type": "code",
   "execution_count": null,
   "metadata": {},
   "outputs": [],
   "source": []
  }
 ],
 "metadata": {
  "kernelspec": {
   "display_name": "Python 3",
   "language": "python",
   "name": "python3"
  },
  "language_info": {
   "codemirror_mode": {
    "name": "ipython",
    "version": 3
   },
   "file_extension": ".py",
   "mimetype": "text/x-python",
   "name": "python",
   "nbconvert_exporter": "python",
   "pygments_lexer": "ipython3",
   "version": "3.8.1"
  }
 },
 "nbformat": 4,
 "nbformat_minor": 2
}
